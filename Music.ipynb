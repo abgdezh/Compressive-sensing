{
 "cells": [
  {
   "cell_type": "code",
   "execution_count": 1,
   "metadata": {},
   "outputs": [],
   "source": [
    "import numpy as np\n",
    "from matplotlib import pyplot as plt\n",
    "import wave"
   ]
  },
  {
   "cell_type": "markdown",
   "metadata": {},
   "source": [
    "Следующая функция читает из ``wav.``-файла и возвращает два ``numpy`` массива, соответствующих левому и правому каналу:"
   ]
  },
  {
   "cell_type": "code",
   "execution_count": 2,
   "metadata": {},
   "outputs": [],
   "source": [
    "def read(filename, size=-1):\n",
    "    fr = wave.open(filename, \"rb\")\n",
    "    if size == -1:\n",
    "        size = fr.getnframes()\n",
    "    arr = np.array(list(fr.readframes(size)))\n",
    "    arr = arr.reshape((arr.shape[0] // 4, 4))\n",
    "    arr = (arr - 128) % 256\n",
    "    left = arr[:, 0] + arr[:, 1] * 256 - 32768\n",
    "    right = arr[:, 2] + arr[:, 3] * 256 - 32768\n",
    "    return left, right"
   ]
  },
  {
   "cell_type": "markdown",
   "metadata": {},
   "source": [
    "Эта функция, наоборот, пишет два канала в файл:"
   ]
  },
  {
   "cell_type": "code",
   "execution_count": 3,
   "metadata": {},
   "outputs": [],
   "source": [
    "def write(filename, left, right):\n",
    "    fw = wave.open(filename, \"wb\")\n",
    "    fw.setnchannels(2)\n",
    "    fw.setsampwidth(2)\n",
    "    fw.setnframes(left.size)\n",
    "    fw.setframerate(44100)\n",
    "    left = (left + 2**15) % 2**16\n",
    "    right = (right + 2**15) % 2**16\n",
    "    arr = np.array(((left - 128) % 256, ((left // 256 - 128) % 256),\n",
    "                   (right - 128) % 256, ((right // 256 - 128) % 256)\n",
    "                  )).T.flatten()\n",
    "    fw.writeframes(bytes(list(arr)))\n",
    "    fw.close()"
   ]
  },
  {
   "cell_type": "markdown",
   "metadata": {},
   "source": [
    "Проверим, что я нигде не ошибся, и в обоих файлах одинаковые аудиодорожки:"
   ]
  },
  {
   "cell_type": "code",
   "execution_count": 4,
   "metadata": {},
   "outputs": [],
   "source": [
    "left, right = read('verdi.wav')\n",
    "write('test.wav', left, right)"
   ]
  },
  {
   "cell_type": "code",
   "execution_count": 5,
   "metadata": {},
   "outputs": [
    {
     "name": "stdout",
     "output_type": "stream",
     "text": [
      "True\n"
     ]
    }
   ],
   "source": [
    "fr1 = wave.open('verdi.wav', \"rb\")\n",
    "fr2 = wave.open('test.wav', \"rb\")\n",
    "print(fr1.readframes(fr1.getnframes()) == fr2.readframes(fr2.getnframes()))"
   ]
  },
  {
   "cell_type": "markdown",
   "metadata": {},
   "source": [
    "Файл ``sample.wav`` --- запись синусоидального сигнала с частотой $1000$ Гц. Удостоверимся в этом:"
   ]
  },
  {
   "cell_type": "code",
   "execution_count": 6,
   "metadata": {},
   "outputs": [
    {
     "data": {
      "image/png": "[encoded data removed]",
      "text/plain": [
       "<Figure size 432x288 with 1 Axes>"
      ]
     },
     "metadata": {},
     "output_type": "display_data"
    }
   ],
   "source": [
    "left, right = read('sample.wav')\n",
    "_ = plt.plot(left[:200])"
   ]
  },
  {
   "cell_type": "code",
   "execution_count": 7,
   "metadata": {},
   "outputs": [
    {
     "name": "stdout",
     "output_type": "stream",
     "text": [
      "999.9924414781445\n"
     ]
    }
   ],
   "source": [
    "fft = np.fft.fft(left)\n",
    "print(44100 / fft.size * np.abs(fft).argmax())"
   ]
  },
  {
   "cell_type": "markdown",
   "metadata": {},
   "source": [
    "Далее попробуем написать какие-нибудь преобразования входного потока данных, основываясь на разложении Фурье:"
   ]
  },
  {
   "cell_type": "code",
   "execution_count": 8,
   "metadata": {},
   "outputs": [],
   "source": [
    "def drop_weak_freqs(fft, remained):\n",
    "    fft_abs = np.abs(fft)\n",
    "    fft_abs.sort()\n",
    "    fft[np.abs(fft) < fft_abs[-remained]] = 0"
   ]
  },
  {
   "cell_type": "code",
   "execution_count": 9,
   "metadata": {},
   "outputs": [],
   "source": [
    "def transform(input_file, output_file, func, sample_size=2000, file_size=-1):\n",
    "    left, right = read(input_file, file_size)\n",
    "    for i in range(len(left) // sample_size):\n",
    "        for side in (left, right):\n",
    "            sample = side[i * sample_size : (i + 1) * sample_size]\n",
    "            fft = np.fft.fft(sample)\n",
    "            func(fft)\n",
    "            ifft = np.fft.ifft(fft)\n",
    "            ifft = np.real(ifft).round().astype(np.int)\n",
    "            side[i * sample_size : (i + 1) * sample_size] = ifft\n",
    "    write(output_file, left, right)"
   ]
  },
  {
   "cell_type": "code",
   "execution_count": null,
   "metadata": {},
   "outputs": [],
   "source": [
    "transform('verdi.wav', 'test-verdi-1.wav', lambda x: drop_weak_freqs(x, 1), sample_size=2000, file_size=10**6)"
   ]
  },
  {
   "cell_type": "markdown",
   "metadata": {},
   "source": [
    "Преобразование, произведённое строчкой выше, делает из исходной музыки аудиозапись, в которой спокойно на слух различима мелодия, хотя количество информации уменьшилось в 2000 раз!\n",
    "\n",
    "(Можно было бы написать на базе этого какой-то поиск по мелодиям, если бы я знал, как убирать шум)"
   ]
  },
  {
   "cell_type": "code",
   "execution_count": null,
   "metadata": {},
   "outputs": [],
   "source": [
    "transform('war_and_peace.wav', 'test-speech-20.wav', lambda x: drop_weak_freqs(x, 20), sample_size=2000, file_size=10**7)"
   ]
  },
  {
   "cell_type": "markdown",
   "metadata": {},
   "source": [
    "Речь довольно хорошо распознаётся, даже если оставить 1% от исходной информации! (см. строку выше) "
   ]
  },
  {
   "cell_type": "markdown",
   "metadata": {},
   "source": [
    "Вот по этим графикам можно оценить, насколько хорошо речь приближается таким образом:"
   ]
  },
  {
   "cell_type": "code",
   "execution_count": null,
   "metadata": {},
   "outputs": [],
   "source": [
    "left, right = read('war_and_peace.wav', 10 ** 7)\n",
    "sample_size = 2000\n",
    "plt.figure(figsize=(20, 20))\n",
    "positions = (150, 200, 250, 350, 400, 500)\n",
    "for cnt, i in enumerate(positions):\n",
    "    sample = left[i * sample_size : (i + 1) * sample_size]\n",
    "    fft = np.fft.fft(sample)\n",
    "    drop_weak_freqs(fft, 20)\n",
    "    ifft = np.fft.ifft(fft)\n",
    "    ifft = np.real(ifft).round().astype(np.int)\n",
    "    plt.subplot(3, 2, cnt + 1)\n",
    "    plt.plot(ifft)\n",
    "    plt.plot(sample)"
   ]
  },
  {
   "cell_type": "markdown",
   "metadata": {},
   "source": [
    "Посмотрим на распределение компонент Фурье, чтобы убедиться в том, что действительно представление в таком базисе весьма разрежено:"
   ]
  },
  {
   "cell_type": "code",
   "execution_count": null,
   "metadata": {},
   "outputs": [],
   "source": [
    "left, right = read('war_and_peace.wav', 10 ** 7)\n",
    "sample_size = 2000\n",
    "plt.figure(figsize=(7, 7))\n",
    "for i in range(100, 120):\n",
    "    sample = left[i * sample_size : (i + 1) * sample_size]\n",
    "    fft = np.fft.fft(sample)\n",
    "    fft_abs = np.abs(fft)\n",
    "    fft_abs.sort()\n",
    "    fft_abs = fft_abs[::-1]\n",
    "    plt.plot(1 / fft_abs)\n",
    "    plt.ylim(0, 0.001)\n",
    "    plt.xlim(0, 1000)\n",
    "    #plt.hist(np.log(fft_abs), bins=20)"
   ]
  },
  {
   "cell_type": "markdown",
   "metadata": {},
   "source": [
    "Судя по всему, если частоты отсортировать по громкости, то громкость будет убывать обратно пропорционально номеру частоты в списке. Это заставляет верить, что Compressed Sensing будет верно восстанавливать исходную выборку при минимизации $L_1$-нормы."
   ]
  }
 ],
 "metadata": {
  "kernelspec": {
   "display_name": "Python 3",
   "language": "python",
   "name": "python3"
  },
  "language_info": {
   "codemirror_mode": {
    "name": "ipython",
    "version": 3
   },
   "file_extension": ".py",
   "mimetype": "text/x-python",
   "name": "python",
   "nbconvert_exporter": "python",
   "pygments_lexer": "ipython3",
   "version": "3.6.6"
  }
 },
 "nbformat": 4,
 "nbformat_minor": 2
}
