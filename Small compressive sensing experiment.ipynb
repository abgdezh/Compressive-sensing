{
 "cells": [
  {
   "cell_type": "code",
   "execution_count": 240,
   "metadata": {},
   "outputs": [],
   "source": [
    "import numpy as np\n",
    "import scipy.stats as sps\n",
    "import scipy.linalg as linalg\n",
    "import scipy.optimize as opt"
   ]
  },
  {
   "cell_type": "markdown",
   "metadata": {},
   "source": [
    "Введём параметры нашей системы. Мы будем рассматривать вектора размерности $n$, в которых не более $k$ ненулевых компонент. Мы будем отображать эти вектора в $m$-мерное пространство. $m$ я прикинул из статьи как $\\sim k \\log_2 \\frac{n}{k}$."
   ]
  },
  {
   "cell_type": "code",
   "execution_count": 241,
   "metadata": {},
   "outputs": [],
   "source": [
    "n, m, k = 100, 30, 7\n",
    "a = sps.norm.rvs(size=(m, n))"
   ]
  },
  {
   "cell_type": "markdown",
   "metadata": {},
   "source": [
    "Следующая функция генерирует разреженные вектора:"
   ]
  },
  {
   "cell_type": "code",
   "execution_count": 242,
   "metadata": {},
   "outputs": [],
   "source": [
    "def gen():\n",
    "    x = np.random.rand(n)\n",
    "    random_mask = np.concatenate((np.zeros(n - k), np.ones(k)))\n",
    "    np.random.shuffle(random_mask)\n",
    "    return x * random_mask"
   ]
  },
  {
   "cell_type": "markdown",
   "metadata": {},
   "source": [
    "Сжатие --- это просто домножение на матрицу"
   ]
  },
  {
   "cell_type": "code",
   "execution_count": 243,
   "metadata": {},
   "outputs": [],
   "source": [
    "def compress(x):\n",
    "    return a @ x"
   ]
  },
  {
   "cell_type": "markdown",
   "metadata": {},
   "source": [
    "Я ищу решение в линейном пространстве решений системы $y = Ax$, минимизируя $L_1$-норму $x$."
   ]
  },
  {
   "cell_type": "code",
   "execution_count": 244,
   "metadata": {},
   "outputs": [],
   "source": [
    "def decompress(y):\n",
    "    x0 = linalg.lstsq(a, y)[0]\n",
    "    linspace = linalg.null_space(a)\n",
    "    fun = lambda c: scipy.linalg.norm(linspace @ c + x0, ord=1)\n",
    "    res = opt.minimize(fun=fun, x0=np.zeros(n - m))\n",
    "    return linspace @ res.x + x0"
   ]
  },
  {
   "cell_type": "markdown",
   "metadata": {},
   "source": [
    "Посмотрим на количество ошибок в декодировании:"
   ]
  },
  {
   "cell_type": "code",
   "execution_count": 249,
   "metadata": {},
   "outputs": [
    {
     "name": "stdout",
     "output_type": "stream",
     "text": [
      "36\n"
     ]
    }
   ],
   "source": [
    "failures = 0\n",
    "for i in range(100):\n",
    "    x = gen()\n",
    "    y = compress(x)\n",
    "    res = decompress(y)\n",
    "    res1 = res.copy()\n",
    "    res1 -= x\n",
    "    res1[res1 < 1e-5] = 0\n",
    "    if np.linalg.norm(res1, ord=0) > 0:\n",
    "        failures += 1\n",
    "print(failures)"
   ]
  },
  {
   "cell_type": "markdown",
   "metadata": {},
   "source": [
    "Пока не слишком удачный результат. Попробуем другое распределение."
   ]
  },
  {
   "cell_type": "code",
   "execution_count": 254,
   "metadata": {},
   "outputs": [],
   "source": [
    "a = sps.bernoulli.rvs(p=1/2, size=(m, n))"
   ]
  },
  {
   "cell_type": "code",
   "execution_count": 255,
   "metadata": {},
   "outputs": [
    {
     "name": "stdout",
     "output_type": "stream",
     "text": [
      "3\n"
     ]
    }
   ],
   "source": [
    "failures = 0\n",
    "for i in range(100):\n",
    "    x = gen()\n",
    "    y = compress(x)\n",
    "    res = decompress(y)\n",
    "    res1 = res.copy()\n",
    "    res1 -= x\n",
    "    res1[res1 < 1e-5] = 0\n",
    "    if np.linalg.norm(res1, ord=0) > 0:\n",
    "        failures += 1\n",
    "print(failures)"
   ]
  },
  {
   "cell_type": "markdown",
   "metadata": {},
   "source": [
    "Гораздо лучше! Но всё равно, я полагаю, дело в том, что я выбрал $m$ недостаточно большим, а если брать его ещё больше, то оно станет совсем уж близко к $n$. Нужно научиться быстрее оптимизировать $L_1$-норму, потому что иначе это работает слишком медленно."
   ]
  }
 ],
 "metadata": {
  "kernelspec": {
   "display_name": "Python 3",
   "language": "python",
   "name": "python3"
  },
  "language_info": {
   "codemirror_mode": {
    "name": "ipython",
    "version": 3
   },
   "file_extension": ".py",
   "mimetype": "text/x-python",
   "name": "python",
   "nbconvert_exporter": "python",
   "pygments_lexer": "ipython3",
   "version": "3.6.6"
  }
 },
 "nbformat": 4,
 "nbformat_minor": 2
}
