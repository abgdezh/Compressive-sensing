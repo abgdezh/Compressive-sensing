{
 "cells": [
  {
   "cell_type": "code",
   "execution_count": 1,
   "metadata": {},
   "outputs": [],
   "source": [
    "import numpy as np\n",
    "import scipy as sp\n",
    "import scipy.stats as stats\n",
    "import scipy.linalg as linalg\n",
    "import scipy.optimize as opt\n",
    "import scipy.sparse as sparse\n",
    "import matplotlib.pyplot as plt\n",
    "import time\n",
    "\n",
    "import warnings\n",
    "warnings.filterwarnings(\"ignore\")"
   ]
  },
  {
   "cell_type": "code",
   "execution_count": 143,
   "metadata": {},
   "outputs": [],
   "source": [
    "def bernoulli_matrix_gen(m, n):\n",
    "    return (stats.bernoulli.rvs(p=1/2, size=(m, n)) * 2 - 1) / m ** 0.5\n",
    "\n",
    "def gaussian_matrix_gen(m, n):\n",
    "    return stats.norm.rvs(loc=1/m, size=(m, n))\n",
    "\n",
    "def mean_matrix_gen(m, n):\n",
    "    a = np.zeros((m, n))\n",
    "    div = n // m\n",
    "    for i in range(m):\n",
    "        a[i, i * div : (i + 1) * div] = 1\n",
    "    a[-1, (i + 1) * div:] = 1\n",
    "    return a\n",
    "\n",
    "def chipping_matrix_gen(m, n):\n",
    "    return mean_matrix_gen(m, n) @ np.diag(stats.bernoulli.rvs(p=1/2, size=n) * 2 - 1)\n",
    "\n",
    "def random_columns_matrix_gen(m, n):\n",
    "    a = np.identity(n)\n",
    "    perm = np.arange(n)\n",
    "    np.random.shuffle(perm)\n",
    "    a[perm] = a[np.arange(n)]\n",
    "    return a[:m]\n",
    "\n",
    "def random_fourier_columns_matrix_gen(m, n):\n",
    "    a = np.identity(n)\n",
    "    perm = np.arange(n)\n",
    "    np.random.shuffle(perm)\n",
    "    a[perm] = sp.fftpack.dct(a[np.arange(n)], norm='ortho')\n",
    "    return a[:m]\n",
    "\n",
    "def not_random_matrix_gen(m, n):\n",
    "    np.random.seed(0)\n",
    "    a = np.zeros(m * n, dtype=np.int)\n",
    "    p = 10**9 + 7\n",
    "    seed = np.random.randint(1, p - 1)\n",
    "    for i in range(m * n):\n",
    "        a[i] = pow(seed, i, p) % 2\n",
    "    return a.reshape((m, n))\n",
    "\n",
    "def checktable(m, n):\n",
    "    a = np.zeros((m, n))\n",
    "    for i in range(m):\n",
    "        for j in range(n):\n",
    "            a[i, j] = (i + j) % 2\n",
    "    return a"
   ]
  },
  {
   "cell_type": "code",
   "execution_count": 3,
   "metadata": {},
   "outputs": [],
   "source": [
    "def gen_sparse(n, k):\n",
    "    x = np.random.rand(n)\n",
    "    random_mask = np.concatenate((np.zeros(n - k), np.ones(k)))\n",
    "    np.random.shuffle(random_mask)\n",
    "    return x * random_mask\n",
    "\n",
    "def gen_noised(n, k, eps):\n",
    "    return gen_sparse(n, k) + stats.norm.rvs(size=n) * eps\n",
    "\n",
    "def gen_compressive(n, k):\n",
    "    perm = np.arange(n)\n",
    "    np.random.shuffle(perm)\n",
    "    x = np.arange(1, n + 1) ** (-n / k / 4)\n",
    "    return x[perm]"
   ]
  },
  {
   "cell_type": "code",
   "execution_count": 4,
   "metadata": {},
   "outputs": [],
   "source": [
    "def decompress_sparse(a, y, tol=1e-8):\n",
    "    m, n = a.shape\n",
    "    A_eq = np.zeros((m, 2 * n))\n",
    "    A_eq[:, :n] = a\n",
    "\n",
    "    A_ub = np.zeros((2 * n, 2 * n))\n",
    "    A_ub[:n, :n] = np.identity(n)\n",
    "    A_ub[:n, n:] = -np.identity(n)\n",
    "    A_ub[n:, :n] = -np.identity(n)\n",
    "    A_ub[n:, n:] = -np.identity(n)\n",
    "    b_ub = np.zeros(2 * n)\n",
    "    bounds=np.array([(None, None)] * n + [(0, None)] * n)\n",
    "    c = np.zeros(2 * n)\n",
    "    c[n:] = 1\n",
    "    b_eq = y\n",
    "    res = opt.linprog(c, A_ub=A_ub, b_ub=b_ub, A_eq=A_eq, b_eq=b_eq, bounds=bounds, \n",
    "                      #options={'maxiter': 10000, 'disp': False, 'tol': tol})\n",
    "                      method='interior-point', options={\"tol\" : tol, \"sym_pos\" : False})\n",
    "    if not res.success:\n",
    "        raise Exception(res)\n",
    "    return res.x[0 : n]"
   ]
  },
  {
   "cell_type": "code",
   "execution_count": 5,
   "metadata": {},
   "outputs": [],
   "source": [
    "def decompress_approx_1(a, y, eps, tol):\n",
    "    m, n = a.shape\n",
    "\n",
    "    A_ub = np.zeros((2 * m + 2 * n, 2 * n))\n",
    "    A_ub[:m, :n] = a\n",
    "    A_ub[m : 2 * m, :n] = -a\n",
    "    A_ub[2 * m : 2 * m + n, :n] = np.identity(n)\n",
    "    A_ub[2 * m : 2 * m + n, n:] = -np.identity(n)\n",
    "    A_ub[2 * m + n :, :n] = -np.identity(n)\n",
    "    A_ub[2 * m + n :, n:] = -np.identity(n)\n",
    "    b_ub = np.zeros(2 * m + 2 * n)\n",
    "    b_ub[: m] = y + 2 * eps\n",
    "    b_ub[m : 2 * m] = -y + 2 * eps\n",
    "    bounds=np.array([(None, None)] * n + [(0, None)] * n)\n",
    "    c = np.zeros(2 * n)\n",
    "    c[n:] = 1\n",
    "    res = opt.linprog(c, A_ub=A_ub, b_ub=b_ub, bounds=bounds, \n",
    "                      #options={'maxiter': 10000, 'disp': False, 'tol': tol})\n",
    "                      method='interior-point', options={'maxiter': 10000, \"tol\" : tol, \"sym_pos\" : False})\n",
    "    if not res.success:\n",
    "        raise Exception(res)\n",
    "    x = res.x[0 : n]\n",
    "    x[np.abs(x) < eps] = 0\n",
    "    return x"
   ]
  },
  {
   "cell_type": "code",
   "execution_count": 6,
   "metadata": {},
   "outputs": [],
   "source": [
    "def decompress_approx_2(a, y, eps, tol):\n",
    "    m, n = a.shape\n",
    "    \n",
    "    u, s, vh = linalg.svd(a, full_matrices=False)\n",
    "\n",
    "    A_ub = np.zeros((2 * m + 2 * n, 2 * n))\n",
    "    A_ub[:m, :n] = np.diag(s) @ vh\n",
    "    A_ub[m : 2 * m, :n] = -np.diag(s) @ vh\n",
    "    A_ub[2 * m : 2 * m + n, :n] = np.identity(n)\n",
    "    A_ub[2 * m : 2 * m + n, n:] = -np.identity(n)\n",
    "    A_ub[2 * m + n :, :n] = -np.identity(n)\n",
    "    A_ub[2 * m + n :, n:] = -np.identity(n)\n",
    "    b_ub = np.zeros(2 * m + 2 * n)\n",
    "    b_ub[: m] = linalg.inv(u) @ y + eps * s * 2\n",
    "    b_ub[m : 2 * m] = -linalg.inv(u) @ y + eps * s * 2\n",
    "    bounds=np.array([(None, None)] * n + [(0, None)] * n)\n",
    "    c = np.zeros(2 * n)\n",
    "    c[n:] = 1\n",
    "    res = opt.linprog(c, A_ub=A_ub, b_ub=b_ub, bounds=bounds, \n",
    "                      #options={'maxiter': 10000, 'disp': False, 'tol': tol})\n",
    "                      method='interior-point', options={'maxiter': 10000, \"tol\" : tol, \"sym_pos\" : False})\n",
    "    if not res.success:\n",
    "        raise Exception(res)\n",
    "    x = res.x[0 : n]\n",
    "    x[x < 2 * eps] = 0\n",
    "    return x"
   ]
  },
  {
   "cell_type": "code",
   "execution_count": 7,
   "metadata": {},
   "outputs": [],
   "source": [
    "def estimate_feasibility(n, m, matrix_gen, vector_gen, params, decompress):\n",
    "    a = matrix_gen(m, n)\n",
    "    x = vector_gen(n, **params)\n",
    "    y = a @ x\n",
    "    try:\n",
    "        x0 = decompress(a, y)\n",
    "    except Exception as e:\n",
    "        return np.linalg.norm(x)\n",
    "    return np.linalg.norm(x - x0)"
   ]
  },
  {
   "cell_type": "code",
   "execution_count": 8,
   "metadata": {},
   "outputs": [],
   "source": [
    "def find_m(n, matrix_gen, vector_gen, params, decompress, ok_crit, iters):\n",
    "    l, r = 0, n\n",
    "    while l + 1 != r:\n",
    "        m = (l + r) // 2\n",
    "        err = 0\n",
    "        for _ in range(iters):\n",
    "            err += estimate_feasibility(n, m, matrix_gen, vector_gen, params, decompress)\n",
    "        if ok_crit(err / iters):\n",
    "            r = m\n",
    "        else:\n",
    "            l = m\n",
    "    return r"
   ]
  },
  {
   "cell_type": "code",
   "execution_count": 149,
   "metadata": {
    "scrolled": false
   },
   "outputs": [
    {
     "name": "stdout",
     "output_type": "stream",
     "text": [
      "50\t1\t7\n",
      "50\t2\t11\n",
      "50\t3\t19\n",
      "50\t4\t18\n",
      "50\t5\t20\n",
      "50\t6\t29\n",
      "55\t1\t7\n",
      "55\t2\t9\n",
      "55\t3\t21\n",
      "55\t4\t18\n",
      "55\t5\t20\n",
      "55\t6\t35\n",
      "60\t1\t7\n",
      "60\t2\t13\n",
      "60\t3\t19\n",
      "60\t4\t18\n",
      "60\t5\t21\n",
      "60\t6\t27\n",
      "60\t7\t31\n",
      "66\t1\t6\n",
      "66\t2\t13\n",
      "66\t3\t16\n",
      "66\t4\t20\n",
      "66\t5\t22\n",
      "66\t6\t25\n",
      "66\t7\t27\n",
      "66\t8\t36\n",
      "72\t1\t5\n",
      "72\t2\t11\n",
      "72\t3\t17\n",
      "72\t4\t20\n",
      "72\t5\t28\n",
      "72\t6\t26\n",
      "72\t7\t32\n",
      "72\t8\t32\n",
      "72\t9\t37\n",
      "79\t1\t8\n",
      "79\t2\t11\n",
      "79\t3\t16\n",
      "79\t4\t25\n",
      "79\t5\t26\n",
      "79\t6\t28\n",
      "79\t7\t45\n",
      "86\t1\t5\n",
      "86\t2\t17\n",
      "86\t3\t15\n",
      "86\t4\t20\n",
      "86\t5\t30\n",
      "86\t6\t32\n",
      "86\t7\t32\n",
      "86\t8\t36\n",
      "86\t9\t40\n",
      "86\t10\t45\n",
      "94\t1\t9\n",
      "94\t2\t15\n",
      "94\t3\t24\n",
      "94\t4\t21\n",
      "94\t5\t26\n",
      "94\t6\t29\n",
      "94\t7\t30\n",
      "94\t8\t31\n",
      "94\t9\t49\n",
      "103\t1\t8\n",
      "103\t2\t13\n",
      "103\t3\t16\n",
      "103\t4\t23\n",
      "103\t5\t32\n",
      "103\t6\t29\n",
      "103\t7\t32\n",
      "103\t8\t32\n",
      "103\t9\t40\n",
      "103\t10\t41\n",
      "103\t12\t49\n",
      "103\t14\t68\n",
      "113\t1\t8\n",
      "113\t2\t13\n",
      "113\t3\t17\n",
      "113\t4\t22\n",
      "113\t5\t24\n",
      "113\t6\t37\n",
      "113\t7\t36\n",
      "113\t8\t35\n",
      "113\t9\t46\n",
      "113\t10\t57\n",
      "124\t1\t7\n",
      "124\t2\t14\n",
      "124\t3\t17\n",
      "124\t4\t23\n",
      "124\t5\t33\n",
      "124\t6\t36\n",
      "124\t7\t39\n",
      "124\t8\t37\n",
      "124\t9\t57\n",
      "124\t10\t43\n",
      "124\t12\t63\n"
     ]
    },
    {
     "ename": "KeyboardInterrupt",
     "evalue": "",
     "output_type": "error",
     "traceback": [
      "\u001b[0;31m---------------------------------------------------------------------------\u001b[0m",
      "\u001b[0;31mKeyboardInterrupt\u001b[0m                         Traceback (most recent call last)",
      "\u001b[0;32m<ipython-input-149-aa1dc80561ed>\u001b[0m in \u001b[0;36m<module>\u001b[0;34m()\u001b[0m\n\u001b[1;32m     11\u001b[0m            \u001b[0mdecompress\u001b[0m\u001b[0;34m=\u001b[0m\u001b[0mdecompress_sparse\u001b[0m\u001b[0;34m,\u001b[0m\u001b[0;34m\u001b[0m\u001b[0;34m\u001b[0m\u001b[0m\n\u001b[1;32m     12\u001b[0m            \u001b[0mok_crit\u001b[0m\u001b[0;34m=\u001b[0m\u001b[0;32mlambda\u001b[0m \u001b[0mx\u001b[0m \u001b[0;34m:\u001b[0m \u001b[0mx\u001b[0m \u001b[0;34m<\u001b[0m \u001b[0;36m1e-9\u001b[0m\u001b[0;34m,\u001b[0m\u001b[0;34m\u001b[0m\u001b[0;34m\u001b[0m\u001b[0m\n\u001b[0;32m---> 13\u001b[0;31m            \u001b[0miters\u001b[0m\u001b[0;34m=\u001b[0m\u001b[0;36m5\u001b[0m\u001b[0;34m\u001b[0m\u001b[0;34m\u001b[0m\u001b[0m\n\u001b[0m\u001b[1;32m     14\u001b[0m         )\n\u001b[1;32m     15\u001b[0m         \u001b[0mprint\u001b[0m\u001b[0;34m(\u001b[0m\u001b[0mn\u001b[0m\u001b[0;34m,\u001b[0m \u001b[0mk\u001b[0m\u001b[0;34m,\u001b[0m \u001b[0mm\u001b[0m\u001b[0;34m,\u001b[0m \u001b[0msep\u001b[0m\u001b[0;34m=\u001b[0m\u001b[0;34m'\\t'\u001b[0m\u001b[0;34m)\u001b[0m\u001b[0;34m\u001b[0m\u001b[0;34m\u001b[0m\u001b[0m\n",
      "\u001b[0;32m<ipython-input-8-660a423fa5c3>\u001b[0m in \u001b[0;36mfind_m\u001b[0;34m(n, matrix_gen, vector_gen, params, decompress, ok_crit, iters)\u001b[0m\n\u001b[1;32m      5\u001b[0m         \u001b[0merr\u001b[0m \u001b[0;34m=\u001b[0m \u001b[0;36m0\u001b[0m\u001b[0;34m\u001b[0m\u001b[0;34m\u001b[0m\u001b[0m\n\u001b[1;32m      6\u001b[0m         \u001b[0;32mfor\u001b[0m \u001b[0m_\u001b[0m \u001b[0;32min\u001b[0m \u001b[0mrange\u001b[0m\u001b[0;34m(\u001b[0m\u001b[0miters\u001b[0m\u001b[0;34m)\u001b[0m\u001b[0;34m:\u001b[0m\u001b[0;34m\u001b[0m\u001b[0;34m\u001b[0m\u001b[0m\n\u001b[0;32m----> 7\u001b[0;31m             \u001b[0merr\u001b[0m \u001b[0;34m+=\u001b[0m \u001b[0mestimate_feasibility\u001b[0m\u001b[0;34m(\u001b[0m\u001b[0mn\u001b[0m\u001b[0;34m,\u001b[0m \u001b[0mm\u001b[0m\u001b[0;34m,\u001b[0m \u001b[0mmatrix_gen\u001b[0m\u001b[0;34m,\u001b[0m \u001b[0mvector_gen\u001b[0m\u001b[0;34m,\u001b[0m \u001b[0mparams\u001b[0m\u001b[0;34m,\u001b[0m \u001b[0mdecompress\u001b[0m\u001b[0;34m)\u001b[0m\u001b[0;34m\u001b[0m\u001b[0;34m\u001b[0m\u001b[0m\n\u001b[0m\u001b[1;32m      8\u001b[0m         \u001b[0;32mif\u001b[0m \u001b[0mok_crit\u001b[0m\u001b[0;34m(\u001b[0m\u001b[0merr\u001b[0m \u001b[0;34m/\u001b[0m \u001b[0miters\u001b[0m\u001b[0;34m)\u001b[0m\u001b[0;34m:\u001b[0m\u001b[0;34m\u001b[0m\u001b[0;34m\u001b[0m\u001b[0m\n\u001b[1;32m      9\u001b[0m             \u001b[0mr\u001b[0m \u001b[0;34m=\u001b[0m \u001b[0mm\u001b[0m\u001b[0;34m\u001b[0m\u001b[0;34m\u001b[0m\u001b[0m\n",
      "\u001b[0;32m<ipython-input-7-f4695bb1d35a>\u001b[0m in \u001b[0;36mestimate_feasibility\u001b[0;34m(n, m, matrix_gen, vector_gen, params, decompress)\u001b[0m\n\u001b[1;32m      4\u001b[0m     \u001b[0my\u001b[0m \u001b[0;34m=\u001b[0m \u001b[0ma\u001b[0m \u001b[0;34m@\u001b[0m \u001b[0mx\u001b[0m\u001b[0;34m\u001b[0m\u001b[0;34m\u001b[0m\u001b[0m\n\u001b[1;32m      5\u001b[0m     \u001b[0;32mtry\u001b[0m\u001b[0;34m:\u001b[0m\u001b[0;34m\u001b[0m\u001b[0;34m\u001b[0m\u001b[0m\n\u001b[0;32m----> 6\u001b[0;31m         \u001b[0mx0\u001b[0m \u001b[0;34m=\u001b[0m \u001b[0mdecompress\u001b[0m\u001b[0;34m(\u001b[0m\u001b[0ma\u001b[0m\u001b[0;34m,\u001b[0m \u001b[0my\u001b[0m\u001b[0;34m)\u001b[0m\u001b[0;34m\u001b[0m\u001b[0;34m\u001b[0m\u001b[0m\n\u001b[0m\u001b[1;32m      7\u001b[0m     \u001b[0;32mexcept\u001b[0m \u001b[0mException\u001b[0m \u001b[0;32mas\u001b[0m \u001b[0me\u001b[0m\u001b[0;34m:\u001b[0m\u001b[0;34m\u001b[0m\u001b[0;34m\u001b[0m\u001b[0m\n\u001b[1;32m      8\u001b[0m         \u001b[0;32mreturn\u001b[0m \u001b[0mnp\u001b[0m\u001b[0;34m.\u001b[0m\u001b[0mlinalg\u001b[0m\u001b[0;34m.\u001b[0m\u001b[0mnorm\u001b[0m\u001b[0;34m(\u001b[0m\u001b[0mx\u001b[0m\u001b[0;34m)\u001b[0m\u001b[0;34m\u001b[0m\u001b[0;34m\u001b[0m\u001b[0m\n",
      "\u001b[0;32m<ipython-input-4-692c11f32ae1>\u001b[0m in \u001b[0;36mdecompress_sparse\u001b[0;34m(a, y, tol)\u001b[0m\n\u001b[1;32m     16\u001b[0m     res = opt.linprog(c, A_ub=A_ub, b_ub=b_ub, A_eq=A_eq, b_eq=b_eq, bounds=bounds, \n\u001b[1;32m     17\u001b[0m                       \u001b[0;31m#options={'maxiter': 10000, 'disp': False, 'tol': tol})\u001b[0m\u001b[0;34m\u001b[0m\u001b[0;34m\u001b[0m\u001b[0;34m\u001b[0m\u001b[0m\n\u001b[0;32m---> 18\u001b[0;31m                       method='interior-point', options={\"tol\" : tol, \"sym_pos\" : False})\n\u001b[0m\u001b[1;32m     19\u001b[0m     \u001b[0;32mif\u001b[0m \u001b[0;32mnot\u001b[0m \u001b[0mres\u001b[0m\u001b[0;34m.\u001b[0m\u001b[0msuccess\u001b[0m\u001b[0;34m:\u001b[0m\u001b[0;34m\u001b[0m\u001b[0;34m\u001b[0m\u001b[0m\n\u001b[1;32m     20\u001b[0m         \u001b[0;32mraise\u001b[0m \u001b[0mException\u001b[0m\u001b[0;34m(\u001b[0m\u001b[0mres\u001b[0m\u001b[0;34m)\u001b[0m\u001b[0;34m\u001b[0m\u001b[0;34m\u001b[0m\u001b[0m\n",
      "\u001b[0;32m/usr/local/lib/python3.6/dist-packages/scipy/optimize/_linprog.py\u001b[0m in \u001b[0;36mlinprog\u001b[0;34m(c, A_ub, b_ub, A_eq, b_eq, bounds, method, callback, options)\u001b[0m\n\u001b[1;32m   1044\u001b[0m     \u001b[0;32melif\u001b[0m \u001b[0mmeth\u001b[0m \u001b[0;34m==\u001b[0m \u001b[0;34m'interior-point'\u001b[0m\u001b[0;34m:\u001b[0m\u001b[0;34m\u001b[0m\u001b[0;34m\u001b[0m\u001b[0m\n\u001b[1;32m   1045\u001b[0m         return _linprog_ip(c, A_ub=A_ub, b_ub=b_ub, A_eq=A_eq, b_eq=b_eq,\n\u001b[0;32m-> 1046\u001b[0;31m                            bounds=bounds, callback=callback, **options)\n\u001b[0m\u001b[1;32m   1047\u001b[0m     \u001b[0;32melse\u001b[0m\u001b[0;34m:\u001b[0m\u001b[0;34m\u001b[0m\u001b[0;34m\u001b[0m\u001b[0m\n\u001b[1;32m   1048\u001b[0m         \u001b[0;32mraise\u001b[0m \u001b[0mValueError\u001b[0m\u001b[0;34m(\u001b[0m\u001b[0;34m'Unknown solver %s'\u001b[0m \u001b[0;34m%\u001b[0m \u001b[0mmethod\u001b[0m\u001b[0;34m)\u001b[0m\u001b[0;34m\u001b[0m\u001b[0;34m\u001b[0m\u001b[0m\n",
      "\u001b[0;32m/usr/local/lib/python3.6/dist-packages/scipy/optimize/_linprog_ip.py\u001b[0m in \u001b[0;36m_linprog_ip\u001b[0;34m(c, A_ub, b_ub, A_eq, b_eq, bounds, callback, alpha0, beta, maxiter, disp, tol, sparse, lstsq, sym_pos, cholesky, pc, ip, presolve, permc_spec, rr, _sparse_presolve, **unknown_options)\u001b[0m\n\u001b[1;32m   2148\u001b[0m                                                 \u001b[0mmaxiter\u001b[0m\u001b[0;34m,\u001b[0m \u001b[0mdisp\u001b[0m\u001b[0;34m,\u001b[0m \u001b[0mtol\u001b[0m\u001b[0;34m,\u001b[0m \u001b[0msparse\u001b[0m\u001b[0;34m,\u001b[0m\u001b[0;34m\u001b[0m\u001b[0;34m\u001b[0m\u001b[0m\n\u001b[1;32m   2149\u001b[0m                                                 \u001b[0mlstsq\u001b[0m\u001b[0;34m,\u001b[0m \u001b[0msym_pos\u001b[0m\u001b[0;34m,\u001b[0m \u001b[0mcholesky\u001b[0m\u001b[0;34m,\u001b[0m\u001b[0;34m\u001b[0m\u001b[0;34m\u001b[0m\u001b[0m\n\u001b[0;32m-> 2150\u001b[0;31m                                                 pc, ip, permc_spec)\n\u001b[0m\u001b[1;32m   2151\u001b[0m \u001b[0;34m\u001b[0m\u001b[0m\n\u001b[1;32m   2152\u001b[0m     \u001b[0;31m# Eliminate artificial variables, re-introduce presolved variables, etc...\u001b[0m\u001b[0;34m\u001b[0m\u001b[0;34m\u001b[0m\u001b[0;34m\u001b[0m\u001b[0m\n",
      "\u001b[0;32m/usr/local/lib/python3.6/dist-packages/scipy/optimize/_linprog_ip.py\u001b[0m in \u001b[0;36m_ip_hsd\u001b[0;34m(A, b, c, c0, alpha0, beta, maxiter, disp, tol, sparse, lstsq, sym_pos, cholesky, pc, ip, permc_spec)\u001b[0m\n\u001b[1;32m   1680\u001b[0m             d_x, d_y, d_z, d_tau, d_kappa = _get_delta(\n\u001b[1;32m   1681\u001b[0m                 \u001b[0mA\u001b[0m\u001b[0;34m,\u001b[0m \u001b[0mb\u001b[0m\u001b[0;34m,\u001b[0m \u001b[0mc\u001b[0m\u001b[0;34m,\u001b[0m \u001b[0mx\u001b[0m\u001b[0;34m,\u001b[0m \u001b[0my\u001b[0m\u001b[0;34m,\u001b[0m \u001b[0mz\u001b[0m\u001b[0;34m,\u001b[0m \u001b[0mtau\u001b[0m\u001b[0;34m,\u001b[0m \u001b[0mkappa\u001b[0m\u001b[0;34m,\u001b[0m \u001b[0mgamma\u001b[0m\u001b[0;34m,\u001b[0m \u001b[0meta\u001b[0m\u001b[0;34m,\u001b[0m\u001b[0;34m\u001b[0m\u001b[0;34m\u001b[0m\u001b[0m\n\u001b[0;32m-> 1682\u001b[0;31m                 sparse, lstsq, sym_pos, cholesky, pc, ip, permc_spec)\n\u001b[0m\u001b[1;32m   1683\u001b[0m \u001b[0;34m\u001b[0m\u001b[0m\n\u001b[1;32m   1684\u001b[0m             \u001b[0;32mif\u001b[0m \u001b[0mip\u001b[0m\u001b[0;34m:\u001b[0m  \u001b[0;31m# initial point\u001b[0m\u001b[0;34m\u001b[0m\u001b[0;34m\u001b[0m\u001b[0m\n",
      "\u001b[0;32m/usr/local/lib/python3.6/dist-packages/scipy/optimize/_linprog_ip.py\u001b[0m in \u001b[0;36m_get_delta\u001b[0;34m(A, b, c, x, y, z, tau, kappa, gamma, eta, sparse, lstsq, sym_pos, cholesky, pc, ip, permc_spec)\u001b[0m\n\u001b[1;32m   1243\u001b[0m                 \u001b[0;31m# [1] Equation 8.29\u001b[0m\u001b[0;34m\u001b[0m\u001b[0;34m\u001b[0m\u001b[0;34m\u001b[0m\u001b[0m\n\u001b[1;32m   1244\u001b[0m                 u, v = _sym_solve(Dinv, solve_this, A, rhatd -\n\u001b[0;32m-> 1245\u001b[0;31m                                   (1 / x) * rhatxs, rhatp, solve, splu)\n\u001b[0m\u001b[1;32m   1246\u001b[0m                 \u001b[0;32mif\u001b[0m \u001b[0mnp\u001b[0m\u001b[0;34m.\u001b[0m\u001b[0many\u001b[0m\u001b[0;34m(\u001b[0m\u001b[0mnp\u001b[0m\u001b[0;34m.\u001b[0m\u001b[0misnan\u001b[0m\u001b[0;34m(\u001b[0m\u001b[0mp\u001b[0m\u001b[0;34m)\u001b[0m\u001b[0;34m)\u001b[0m \u001b[0;32mor\u001b[0m \u001b[0mnp\u001b[0m\u001b[0;34m.\u001b[0m\u001b[0many\u001b[0m\u001b[0;34m(\u001b[0m\u001b[0mnp\u001b[0m\u001b[0;34m.\u001b[0m\u001b[0misnan\u001b[0m\u001b[0;34m(\u001b[0m\u001b[0mq\u001b[0m\u001b[0;34m)\u001b[0m\u001b[0;34m)\u001b[0m\u001b[0;34m:\u001b[0m\u001b[0;34m\u001b[0m\u001b[0;34m\u001b[0m\u001b[0m\n\u001b[1;32m   1247\u001b[0m                     \u001b[0;32mraise\u001b[0m \u001b[0mLinAlgError\u001b[0m\u001b[0;34m\u001b[0m\u001b[0;34m\u001b[0m\u001b[0m\n",
      "\u001b[0;32m/usr/local/lib/python3.6/dist-packages/scipy/optimize/_linprog_ip.py\u001b[0m in \u001b[0;36m_sym_solve\u001b[0;34m(Dinv, M, A, r1, r2, solve, splu)\u001b[0m\n\u001b[1;32m   1316\u001b[0m         \u001b[0mv\u001b[0m \u001b[0;34m=\u001b[0m \u001b[0msolve\u001b[0m\u001b[0;34m(\u001b[0m\u001b[0mr\u001b[0m\u001b[0;34m)\u001b[0m\u001b[0;34m\u001b[0m\u001b[0;34m\u001b[0m\u001b[0m\n\u001b[1;32m   1317\u001b[0m     \u001b[0;32melse\u001b[0m\u001b[0;34m:\u001b[0m\u001b[0;34m\u001b[0m\u001b[0;34m\u001b[0m\u001b[0m\n\u001b[0;32m-> 1318\u001b[0;31m         \u001b[0mv\u001b[0m \u001b[0;34m=\u001b[0m \u001b[0msolve\u001b[0m\u001b[0;34m(\u001b[0m\u001b[0mM\u001b[0m\u001b[0;34m,\u001b[0m \u001b[0mr\u001b[0m\u001b[0;34m)\u001b[0m\u001b[0;34m\u001b[0m\u001b[0;34m\u001b[0m\u001b[0m\n\u001b[0m\u001b[1;32m   1319\u001b[0m     \u001b[0;31m# [1] 8.32\u001b[0m\u001b[0;34m\u001b[0m\u001b[0;34m\u001b[0m\u001b[0;34m\u001b[0m\u001b[0m\n\u001b[1;32m   1320\u001b[0m     \u001b[0mu\u001b[0m \u001b[0;34m=\u001b[0m \u001b[0mDinv\u001b[0m \u001b[0;34m*\u001b[0m \u001b[0;34m(\u001b[0m\u001b[0mA\u001b[0m\u001b[0;34m.\u001b[0m\u001b[0mT\u001b[0m\u001b[0;34m.\u001b[0m\u001b[0mdot\u001b[0m\u001b[0;34m(\u001b[0m\u001b[0mv\u001b[0m\u001b[0;34m)\u001b[0m \u001b[0;34m-\u001b[0m \u001b[0mr1\u001b[0m\u001b[0;34m)\u001b[0m\u001b[0;34m\u001b[0m\u001b[0;34m\u001b[0m\u001b[0m\n",
      "\u001b[0;32m/usr/local/lib/python3.6/dist-packages/scipy/optimize/_linprog_ip.py\u001b[0m in \u001b[0;36msolve\u001b[0;34m(M, r, sym_pos)\u001b[0m\n\u001b[1;32m   1053\u001b[0m             \u001b[0;31m# with multiple right hand sides is much faster\u001b[0m\u001b[0;34m\u001b[0m\u001b[0;34m\u001b[0m\u001b[0;34m\u001b[0m\u001b[0m\n\u001b[1;32m   1054\u001b[0m             \u001b[0;32mdef\u001b[0m \u001b[0msolve\u001b[0m\u001b[0;34m(\u001b[0m\u001b[0mM\u001b[0m\u001b[0;34m,\u001b[0m \u001b[0mr\u001b[0m\u001b[0;34m,\u001b[0m \u001b[0msym_pos\u001b[0m\u001b[0;34m=\u001b[0m\u001b[0msym_pos\u001b[0m\u001b[0;34m)\u001b[0m\u001b[0;34m:\u001b[0m\u001b[0;34m\u001b[0m\u001b[0;34m\u001b[0m\u001b[0m\n\u001b[0;32m-> 1055\u001b[0;31m                 \u001b[0;32mreturn\u001b[0m \u001b[0msp\u001b[0m\u001b[0;34m.\u001b[0m\u001b[0mlinalg\u001b[0m\u001b[0;34m.\u001b[0m\u001b[0msolve\u001b[0m\u001b[0;34m(\u001b[0m\u001b[0mM\u001b[0m\u001b[0;34m,\u001b[0m \u001b[0mr\u001b[0m\u001b[0;34m,\u001b[0m \u001b[0msym_pos\u001b[0m\u001b[0;34m=\u001b[0m\u001b[0msym_pos\u001b[0m\u001b[0;34m)\u001b[0m\u001b[0;34m\u001b[0m\u001b[0;34m\u001b[0m\u001b[0m\n\u001b[0m\u001b[1;32m   1056\u001b[0m \u001b[0;34m\u001b[0m\u001b[0m\n\u001b[1;32m   1057\u001b[0m     \u001b[0;32mreturn\u001b[0m \u001b[0msolve\u001b[0m\u001b[0;34m\u001b[0m\u001b[0;34m\u001b[0m\u001b[0m\n",
      "\u001b[0;32m/usr/local/lib/python3.6/dist-packages/scipy/linalg/basic.py\u001b[0m in \u001b[0;36msolve\u001b[0;34m(a, b, sym_pos, lower, overwrite_a, overwrite_b, debug, check_finite, assume_a, transposed)\u001b[0m\n\u001b[1;32m    213\u001b[0m         gecon, getrf, getrs = get_lapack_funcs(('gecon', 'getrf', 'getrs'),\n\u001b[1;32m    214\u001b[0m                                                (a1, b1))\n\u001b[0;32m--> 215\u001b[0;31m         \u001b[0mlu\u001b[0m\u001b[0;34m,\u001b[0m \u001b[0mipvt\u001b[0m\u001b[0;34m,\u001b[0m \u001b[0minfo\u001b[0m \u001b[0;34m=\u001b[0m \u001b[0mgetrf\u001b[0m\u001b[0;34m(\u001b[0m\u001b[0ma1\u001b[0m\u001b[0;34m,\u001b[0m \u001b[0moverwrite_a\u001b[0m\u001b[0;34m=\u001b[0m\u001b[0moverwrite_a\u001b[0m\u001b[0;34m)\u001b[0m\u001b[0;34m\u001b[0m\u001b[0;34m\u001b[0m\u001b[0m\n\u001b[0m\u001b[1;32m    216\u001b[0m         \u001b[0m_solve_check\u001b[0m\u001b[0;34m(\u001b[0m\u001b[0mn\u001b[0m\u001b[0;34m,\u001b[0m \u001b[0minfo\u001b[0m\u001b[0;34m)\u001b[0m\u001b[0;34m\u001b[0m\u001b[0;34m\u001b[0m\u001b[0m\n\u001b[1;32m    217\u001b[0m         x, info = getrs(lu, ipvt, b1,\n",
      "\u001b[0;31mKeyboardInterrupt\u001b[0m: "
     ]
    }
   ],
   "source": [
    "d = dict()\n",
    "n = 50\n",
    "while n < 500:\n",
    "    d[n] = dict()\n",
    "    k = 1\n",
    "    while k < n // 3:\n",
    "        m = find_m(n=n, \n",
    "           matrix_gen=random_fourier_columns_matrix_gen, \n",
    "           vector_gen=lambda n, k: gen_sparse(n, k), \n",
    "           params={\"k\" : k}, \n",
    "           decompress=decompress_sparse,\n",
    "           ok_crit=lambda x : x < 1e-9,\n",
    "           iters=5\n",
    "        )\n",
    "        print(n, k, m, sep='\\t')\n",
    "        d[n][k] = m\n",
    "        if m >= n // 2:\n",
    "            break\n",
    "        k = int(k * 1.1) + 1\n",
    "    n = int(n * 1.1)"
   ]
  },
  {
   "cell_type": "code",
   "execution_count": 150,
   "metadata": {},
   "outputs": [],
   "source": [
    "flattened = []\n",
    "for n in d:\n",
    "    for k in d[n]:\n",
    "        flattened.append((n, k, d[n][k]))"
   ]
  },
  {
   "cell_type": "code",
   "execution_count": 157,
   "metadata": {},
   "outputs": [
    {
     "data": {
      "image/png": "[encoded data removed]",
      "text/plain": [
       "<Figure size 720x360 with 1 Axes>"
      ]
     },
     "metadata": {},
     "output_type": "display_data"
    }
   ],
   "source": [
    "m = np.array([i[2] for i in flattened])\n",
    "klognk = np.array([i[1] * np.log(i[0] / i[1] + 1) for i in flattened])\n",
    "plt.figure(figsize=(10, 5))\n",
    "plt.hist(m / klognk, bins=13)\n",
    "_ = plt.xlabel(\"$\\\\frac{m}{s \\\\log(n/s)}$\")\n",
    "_.set_fontsize(16)\n",
    "#plt.legend()\n",
    "plt.savefig(\"fourier.pdf\")"
   ]
  },
  {
   "cell_type": "code",
   "execution_count": 69,
   "metadata": {},
   "outputs": [
    {
     "name": "stdout",
     "output_type": "stream",
     "text": [
      "62\n"
     ]
    }
   ],
   "source": [
    "n, k = 300, 10\n",
    "m0 = find_m(n=n, \n",
    "           matrix_gen=gaussian_matrix_gen, \n",
    "           vector_gen=lambda n, k: gen_sparse(n, k), \n",
    "           params={\"k\" : k}, \n",
    "           decompress=decompress_sparse,\n",
    "           ok_crit=lambda x : x < 1e-9,\n",
    "           iters=5\n",
    "        )\n",
    "print(m0)"
   ]
  },
  {
   "cell_type": "code",
   "execution_count": 67,
   "metadata": {},
   "outputs": [],
   "source": [
    "n, k = 300, 10\n",
    "eps = 1 / n / 2\n",
    "diff = estimate_feasibility(n, \n",
    "                     m0, \n",
    "                     bernoulli_matrix_gen,\n",
    "                     vector_gen=lambda n, k: gen_noised(n, k, eps),\n",
    "                     params={\"k\" : k},\n",
    "                     decompress=lambda a, y: decompress_sparse(a, y, eps)\n",
    "                    )"
   ]
  },
  {
   "cell_type": "code",
   "execution_count": 68,
   "metadata": {},
   "outputs": [
    {
     "data": {
      "text/plain": [
       "4.025266424261927"
      ]
     },
     "execution_count": 68,
     "metadata": {},
     "output_type": "execute_result"
    }
   ],
   "source": [
    "diff / eps / n"
   ]
  },
  {
   "cell_type": "code",
   "execution_count": null,
   "metadata": {},
   "outputs": [],
   "source": [
    "## n, k = 200, 1\n",
    "eps = 1 / n / 3\n",
    "m0 = find_m(n=n, \n",
    "           matrix_gen=gaussian_matrix_gen, \n",
    "           vector_gen=lambda n, k: gen_noised(n, k, eps), \n",
    "           params={\"k\" : k}, \n",
    "           decompress=lambda a, y: decompress_sparse(a, y, eps),\n",
    "           ok_crit=lambda x : x < eps * k * np.log(n / k + 1),\n",
    "           iters=3\n",
    "        )\n",
    "print(m0)"
   ]
  },
  {
   "cell_type": "code",
   "execution_count": 99,
   "metadata": {},
   "outputs": [
    {
     "name": "stdout",
     "output_type": "stream",
     "text": [
      "50\t1\t31\t50\t50\n",
      "50\t2\t39\t50\t50\n",
      "50\t3\t35\t50\t50\n",
      "50\t4\t32\t50\t50\n",
      "50\t5\t44\t50\t50\n",
      "50\t6\t44\t50\t50\n",
      "50\t7\t41\t50\t50\n",
      "50\t8\t39\t50\t50\n",
      "50\t9\t43\t50\t50\n",
      "50\t10\t41\t50\t50\n",
      "50\t12\t44\t50\t50\n"
     ]
    },
    {
     "ename": "KeyboardInterrupt",
     "evalue": "",
     "output_type": "error",
     "traceback": [
      "\u001b[0;31m---------------------------------------------------------------------------\u001b[0m",
      "\u001b[0;31mKeyboardInterrupt\u001b[0m                         Traceback (most recent call last)",
      "\u001b[0;32m<ipython-input-99-a72a7a009ef3>\u001b[0m in \u001b[0;36m<module>\u001b[0;34m()\u001b[0m\n\u001b[1;32m     12\u001b[0m            \u001b[0mdecompress\u001b[0m\u001b[0;34m=\u001b[0m\u001b[0;32mlambda\u001b[0m \u001b[0ma\u001b[0m\u001b[0;34m,\u001b[0m \u001b[0my\u001b[0m\u001b[0;34m:\u001b[0m \u001b[0mdecompress_sparse\u001b[0m\u001b[0;34m(\u001b[0m\u001b[0ma\u001b[0m\u001b[0;34m,\u001b[0m \u001b[0my\u001b[0m\u001b[0;34m,\u001b[0m \u001b[0meps\u001b[0m \u001b[0;34m/\u001b[0m \u001b[0;36m10\u001b[0m\u001b[0;34m)\u001b[0m\u001b[0;34m,\u001b[0m\u001b[0;34m\u001b[0m\u001b[0;34m\u001b[0m\u001b[0m\n\u001b[1;32m     13\u001b[0m            \u001b[0mok_crit\u001b[0m\u001b[0;34m=\u001b[0m\u001b[0;32mlambda\u001b[0m \u001b[0mx\u001b[0m \u001b[0;34m:\u001b[0m \u001b[0mx\u001b[0m \u001b[0;34m<\u001b[0m \u001b[0meps\u001b[0m \u001b[0;34m*\u001b[0m \u001b[0mn\u001b[0m \u001b[0;34m/\u001b[0m \u001b[0;36m10\u001b[0m\u001b[0;34m,\u001b[0m\u001b[0;34m\u001b[0m\u001b[0;34m\u001b[0m\u001b[0m\n\u001b[0;32m---> 14\u001b[0;31m            \u001b[0miters\u001b[0m\u001b[0;34m=\u001b[0m\u001b[0;36m1\u001b[0m\u001b[0;34m\u001b[0m\u001b[0;34m\u001b[0m\u001b[0m\n\u001b[0m\u001b[1;32m     15\u001b[0m           )\n\u001b[1;32m     16\u001b[0m         m1 = find_m(n=n, \n",
      "\u001b[0;32m<ipython-input-16-660a423fa5c3>\u001b[0m in \u001b[0;36mfind_m\u001b[0;34m(n, matrix_gen, vector_gen, params, decompress, ok_crit, iters)\u001b[0m\n\u001b[1;32m      5\u001b[0m         \u001b[0merr\u001b[0m \u001b[0;34m=\u001b[0m \u001b[0;36m0\u001b[0m\u001b[0;34m\u001b[0m\u001b[0;34m\u001b[0m\u001b[0m\n\u001b[1;32m      6\u001b[0m         \u001b[0;32mfor\u001b[0m \u001b[0m_\u001b[0m \u001b[0;32min\u001b[0m \u001b[0mrange\u001b[0m\u001b[0;34m(\u001b[0m\u001b[0miters\u001b[0m\u001b[0;34m)\u001b[0m\u001b[0;34m:\u001b[0m\u001b[0;34m\u001b[0m\u001b[0;34m\u001b[0m\u001b[0m\n\u001b[0;32m----> 7\u001b[0;31m             \u001b[0merr\u001b[0m \u001b[0;34m+=\u001b[0m \u001b[0mestimate_feasibility\u001b[0m\u001b[0;34m(\u001b[0m\u001b[0mn\u001b[0m\u001b[0;34m,\u001b[0m \u001b[0mm\u001b[0m\u001b[0;34m,\u001b[0m \u001b[0mmatrix_gen\u001b[0m\u001b[0;34m,\u001b[0m \u001b[0mvector_gen\u001b[0m\u001b[0;34m,\u001b[0m \u001b[0mparams\u001b[0m\u001b[0;34m,\u001b[0m \u001b[0mdecompress\u001b[0m\u001b[0;34m)\u001b[0m\u001b[0;34m\u001b[0m\u001b[0;34m\u001b[0m\u001b[0m\n\u001b[0m\u001b[1;32m      8\u001b[0m         \u001b[0;32mif\u001b[0m \u001b[0mok_crit\u001b[0m\u001b[0;34m(\u001b[0m\u001b[0merr\u001b[0m \u001b[0;34m/\u001b[0m \u001b[0miters\u001b[0m\u001b[0;34m)\u001b[0m\u001b[0;34m:\u001b[0m\u001b[0;34m\u001b[0m\u001b[0;34m\u001b[0m\u001b[0m\n\u001b[1;32m      9\u001b[0m             \u001b[0mr\u001b[0m \u001b[0;34m=\u001b[0m \u001b[0mm\u001b[0m\u001b[0;34m\u001b[0m\u001b[0;34m\u001b[0m\u001b[0m\n",
      "\u001b[0;32m<ipython-input-7-f4695bb1d35a>\u001b[0m in \u001b[0;36mestimate_feasibility\u001b[0;34m(n, m, matrix_gen, vector_gen, params, decompress)\u001b[0m\n\u001b[1;32m      4\u001b[0m     \u001b[0my\u001b[0m \u001b[0;34m=\u001b[0m \u001b[0ma\u001b[0m \u001b[0;34m@\u001b[0m \u001b[0mx\u001b[0m\u001b[0;34m\u001b[0m\u001b[0;34m\u001b[0m\u001b[0m\n\u001b[1;32m      5\u001b[0m     \u001b[0;32mtry\u001b[0m\u001b[0;34m:\u001b[0m\u001b[0;34m\u001b[0m\u001b[0;34m\u001b[0m\u001b[0m\n\u001b[0;32m----> 6\u001b[0;31m         \u001b[0mx0\u001b[0m \u001b[0;34m=\u001b[0m \u001b[0mdecompress\u001b[0m\u001b[0;34m(\u001b[0m\u001b[0ma\u001b[0m\u001b[0;34m,\u001b[0m \u001b[0my\u001b[0m\u001b[0;34m)\u001b[0m\u001b[0;34m\u001b[0m\u001b[0;34m\u001b[0m\u001b[0m\n\u001b[0m\u001b[1;32m      7\u001b[0m     \u001b[0;32mexcept\u001b[0m \u001b[0mException\u001b[0m \u001b[0;32mas\u001b[0m \u001b[0me\u001b[0m\u001b[0;34m:\u001b[0m\u001b[0;34m\u001b[0m\u001b[0;34m\u001b[0m\u001b[0m\n\u001b[1;32m      8\u001b[0m         \u001b[0;32mreturn\u001b[0m \u001b[0mnp\u001b[0m\u001b[0;34m.\u001b[0m\u001b[0mlinalg\u001b[0m\u001b[0;34m.\u001b[0m\u001b[0mnorm\u001b[0m\u001b[0;34m(\u001b[0m\u001b[0mx\u001b[0m\u001b[0;34m)\u001b[0m\u001b[0;34m\u001b[0m\u001b[0;34m\u001b[0m\u001b[0m\n",
      "\u001b[0;32m<ipython-input-99-a72a7a009ef3>\u001b[0m in \u001b[0;36m<lambda>\u001b[0;34m(a, y)\u001b[0m\n\u001b[1;32m     10\u001b[0m            \u001b[0mvector_gen\u001b[0m\u001b[0;34m=\u001b[0m\u001b[0;32mlambda\u001b[0m \u001b[0mn\u001b[0m\u001b[0;34m,\u001b[0m \u001b[0mk\u001b[0m\u001b[0;34m:\u001b[0m \u001b[0mgen_noised\u001b[0m\u001b[0;34m(\u001b[0m\u001b[0mn\u001b[0m\u001b[0;34m,\u001b[0m \u001b[0mk\u001b[0m\u001b[0;34m,\u001b[0m \u001b[0meps\u001b[0m\u001b[0;34m)\u001b[0m\u001b[0;34m,\u001b[0m\u001b[0;34m\u001b[0m\u001b[0;34m\u001b[0m\u001b[0m\n\u001b[1;32m     11\u001b[0m            \u001b[0mparams\u001b[0m\u001b[0;34m=\u001b[0m\u001b[0;34m{\u001b[0m\u001b[0;34m\"k\"\u001b[0m \u001b[0;34m:\u001b[0m \u001b[0mk\u001b[0m\u001b[0;34m}\u001b[0m\u001b[0;34m,\u001b[0m\u001b[0;34m\u001b[0m\u001b[0;34m\u001b[0m\u001b[0m\n\u001b[0;32m---> 12\u001b[0;31m            \u001b[0mdecompress\u001b[0m\u001b[0;34m=\u001b[0m\u001b[0;32mlambda\u001b[0m \u001b[0ma\u001b[0m\u001b[0;34m,\u001b[0m \u001b[0my\u001b[0m\u001b[0;34m:\u001b[0m \u001b[0mdecompress_sparse\u001b[0m\u001b[0;34m(\u001b[0m\u001b[0ma\u001b[0m\u001b[0;34m,\u001b[0m \u001b[0my\u001b[0m\u001b[0;34m,\u001b[0m \u001b[0meps\u001b[0m \u001b[0;34m/\u001b[0m \u001b[0;36m10\u001b[0m\u001b[0;34m)\u001b[0m\u001b[0;34m,\u001b[0m\u001b[0;34m\u001b[0m\u001b[0;34m\u001b[0m\u001b[0m\n\u001b[0m\u001b[1;32m     13\u001b[0m            \u001b[0mok_crit\u001b[0m\u001b[0;34m=\u001b[0m\u001b[0;32mlambda\u001b[0m \u001b[0mx\u001b[0m \u001b[0;34m:\u001b[0m \u001b[0mx\u001b[0m \u001b[0;34m<\u001b[0m \u001b[0meps\u001b[0m \u001b[0;34m*\u001b[0m \u001b[0mn\u001b[0m \u001b[0;34m/\u001b[0m \u001b[0;36m10\u001b[0m\u001b[0;34m,\u001b[0m\u001b[0;34m\u001b[0m\u001b[0;34m\u001b[0m\u001b[0m\n\u001b[1;32m     14\u001b[0m            \u001b[0miters\u001b[0m\u001b[0;34m=\u001b[0m\u001b[0;36m1\u001b[0m\u001b[0;34m\u001b[0m\u001b[0;34m\u001b[0m\u001b[0m\n",
      "\u001b[0;32m<ipython-input-4-692c11f32ae1>\u001b[0m in \u001b[0;36mdecompress_sparse\u001b[0;34m(a, y, tol)\u001b[0m\n\u001b[1;32m     16\u001b[0m     res = opt.linprog(c, A_ub=A_ub, b_ub=b_ub, A_eq=A_eq, b_eq=b_eq, bounds=bounds, \n\u001b[1;32m     17\u001b[0m                       \u001b[0;31m#options={'maxiter': 10000, 'disp': False, 'tol': tol})\u001b[0m\u001b[0;34m\u001b[0m\u001b[0;34m\u001b[0m\u001b[0;34m\u001b[0m\u001b[0m\n\u001b[0;32m---> 18\u001b[0;31m                       method='interior-point', options={\"tol\" : tol, \"sym_pos\" : False})\n\u001b[0m\u001b[1;32m     19\u001b[0m     \u001b[0;32mif\u001b[0m \u001b[0;32mnot\u001b[0m \u001b[0mres\u001b[0m\u001b[0;34m.\u001b[0m\u001b[0msuccess\u001b[0m\u001b[0;34m:\u001b[0m\u001b[0;34m\u001b[0m\u001b[0;34m\u001b[0m\u001b[0m\n\u001b[1;32m     20\u001b[0m         \u001b[0;32mraise\u001b[0m \u001b[0mException\u001b[0m\u001b[0;34m(\u001b[0m\u001b[0mres\u001b[0m\u001b[0;34m)\u001b[0m\u001b[0;34m\u001b[0m\u001b[0;34m\u001b[0m\u001b[0m\n",
      "\u001b[0;32m/usr/local/lib/python3.6/dist-packages/scipy/optimize/_linprog.py\u001b[0m in \u001b[0;36mlinprog\u001b[0;34m(c, A_ub, b_ub, A_eq, b_eq, bounds, method, callback, options)\u001b[0m\n\u001b[1;32m   1044\u001b[0m     \u001b[0;32melif\u001b[0m \u001b[0mmeth\u001b[0m \u001b[0;34m==\u001b[0m \u001b[0;34m'interior-point'\u001b[0m\u001b[0;34m:\u001b[0m\u001b[0;34m\u001b[0m\u001b[0;34m\u001b[0m\u001b[0m\n\u001b[1;32m   1045\u001b[0m         return _linprog_ip(c, A_ub=A_ub, b_ub=b_ub, A_eq=A_eq, b_eq=b_eq,\n\u001b[0;32m-> 1046\u001b[0;31m                            bounds=bounds, callback=callback, **options)\n\u001b[0m\u001b[1;32m   1047\u001b[0m     \u001b[0;32melse\u001b[0m\u001b[0;34m:\u001b[0m\u001b[0;34m\u001b[0m\u001b[0;34m\u001b[0m\u001b[0m\n\u001b[1;32m   1048\u001b[0m         \u001b[0;32mraise\u001b[0m \u001b[0mValueError\u001b[0m\u001b[0;34m(\u001b[0m\u001b[0;34m'Unknown solver %s'\u001b[0m \u001b[0;34m%\u001b[0m \u001b[0mmethod\u001b[0m\u001b[0;34m)\u001b[0m\u001b[0;34m\u001b[0m\u001b[0;34m\u001b[0m\u001b[0m\n",
      "\u001b[0;32m/usr/local/lib/python3.6/dist-packages/scipy/optimize/_linprog_ip.py\u001b[0m in \u001b[0;36m_linprog_ip\u001b[0;34m(c, A_ub, b_ub, A_eq, b_eq, bounds, callback, alpha0, beta, maxiter, disp, tol, sparse, lstsq, sym_pos, cholesky, pc, ip, presolve, permc_spec, rr, _sparse_presolve, **unknown_options)\u001b[0m\n\u001b[1;32m   2148\u001b[0m                                                 \u001b[0mmaxiter\u001b[0m\u001b[0;34m,\u001b[0m \u001b[0mdisp\u001b[0m\u001b[0;34m,\u001b[0m \u001b[0mtol\u001b[0m\u001b[0;34m,\u001b[0m \u001b[0msparse\u001b[0m\u001b[0;34m,\u001b[0m\u001b[0;34m\u001b[0m\u001b[0;34m\u001b[0m\u001b[0m\n\u001b[1;32m   2149\u001b[0m                                                 \u001b[0mlstsq\u001b[0m\u001b[0;34m,\u001b[0m \u001b[0msym_pos\u001b[0m\u001b[0;34m,\u001b[0m \u001b[0mcholesky\u001b[0m\u001b[0;34m,\u001b[0m\u001b[0;34m\u001b[0m\u001b[0;34m\u001b[0m\u001b[0m\n\u001b[0;32m-> 2150\u001b[0;31m                                                 pc, ip, permc_spec)\n\u001b[0m\u001b[1;32m   2151\u001b[0m \u001b[0;34m\u001b[0m\u001b[0m\n\u001b[1;32m   2152\u001b[0m     \u001b[0;31m# Eliminate artificial variables, re-introduce presolved variables, etc...\u001b[0m\u001b[0;34m\u001b[0m\u001b[0;34m\u001b[0m\u001b[0;34m\u001b[0m\u001b[0m\n",
      "\u001b[0;32m/usr/local/lib/python3.6/dist-packages/scipy/optimize/_linprog_ip.py\u001b[0m in \u001b[0;36m_ip_hsd\u001b[0;34m(A, b, c, c0, alpha0, beta, maxiter, disp, tol, sparse, lstsq, sym_pos, cholesky, pc, ip, permc_spec)\u001b[0m\n\u001b[1;32m   1680\u001b[0m             d_x, d_y, d_z, d_tau, d_kappa = _get_delta(\n\u001b[1;32m   1681\u001b[0m                 \u001b[0mA\u001b[0m\u001b[0;34m,\u001b[0m \u001b[0mb\u001b[0m\u001b[0;34m,\u001b[0m \u001b[0mc\u001b[0m\u001b[0;34m,\u001b[0m \u001b[0mx\u001b[0m\u001b[0;34m,\u001b[0m \u001b[0my\u001b[0m\u001b[0;34m,\u001b[0m \u001b[0mz\u001b[0m\u001b[0;34m,\u001b[0m \u001b[0mtau\u001b[0m\u001b[0;34m,\u001b[0m \u001b[0mkappa\u001b[0m\u001b[0;34m,\u001b[0m \u001b[0mgamma\u001b[0m\u001b[0;34m,\u001b[0m \u001b[0meta\u001b[0m\u001b[0;34m,\u001b[0m\u001b[0;34m\u001b[0m\u001b[0;34m\u001b[0m\u001b[0m\n\u001b[0;32m-> 1682\u001b[0;31m                 sparse, lstsq, sym_pos, cholesky, pc, ip, permc_spec)\n\u001b[0m\u001b[1;32m   1683\u001b[0m \u001b[0;34m\u001b[0m\u001b[0m\n\u001b[1;32m   1684\u001b[0m             \u001b[0;32mif\u001b[0m \u001b[0mip\u001b[0m\u001b[0;34m:\u001b[0m  \u001b[0;31m# initial point\u001b[0m\u001b[0;34m\u001b[0m\u001b[0;34m\u001b[0m\u001b[0m\n",
      "\u001b[0;32m/usr/local/lib/python3.6/dist-packages/scipy/optimize/_linprog_ip.py\u001b[0m in \u001b[0;36m_get_delta\u001b[0;34m(A, b, c, x, y, z, tau, kappa, gamma, eta, sparse, lstsq, sym_pos, cholesky, pc, ip, permc_spec)\u001b[0m\n\u001b[1;32m   1240\u001b[0m                 \u001b[0msolve_this\u001b[0m \u001b[0;34m=\u001b[0m \u001b[0mL\u001b[0m \u001b[0;32mif\u001b[0m \u001b[0mcholesky\u001b[0m \u001b[0;32melse\u001b[0m \u001b[0mM\u001b[0m\u001b[0;34m\u001b[0m\u001b[0;34m\u001b[0m\u001b[0m\n\u001b[1;32m   1241\u001b[0m                 \u001b[0;31m# [1] Equation 8.28\u001b[0m\u001b[0;34m\u001b[0m\u001b[0;34m\u001b[0m\u001b[0;34m\u001b[0m\u001b[0m\n\u001b[0;32m-> 1242\u001b[0;31m                 \u001b[0mp\u001b[0m\u001b[0;34m,\u001b[0m \u001b[0mq\u001b[0m \u001b[0;34m=\u001b[0m \u001b[0m_sym_solve\u001b[0m\u001b[0;34m(\u001b[0m\u001b[0mDinv\u001b[0m\u001b[0;34m,\u001b[0m \u001b[0msolve_this\u001b[0m\u001b[0;34m,\u001b[0m \u001b[0mA\u001b[0m\u001b[0;34m,\u001b[0m \u001b[0mc\u001b[0m\u001b[0;34m,\u001b[0m \u001b[0mb\u001b[0m\u001b[0;34m,\u001b[0m \u001b[0msolve\u001b[0m\u001b[0;34m,\u001b[0m \u001b[0msplu\u001b[0m\u001b[0;34m)\u001b[0m\u001b[0;34m\u001b[0m\u001b[0;34m\u001b[0m\u001b[0m\n\u001b[0m\u001b[1;32m   1243\u001b[0m                 \u001b[0;31m# [1] Equation 8.29\u001b[0m\u001b[0;34m\u001b[0m\u001b[0;34m\u001b[0m\u001b[0;34m\u001b[0m\u001b[0m\n\u001b[1;32m   1244\u001b[0m                 u, v = _sym_solve(Dinv, solve_this, A, rhatd -\n",
      "\u001b[0;32m/usr/local/lib/python3.6/dist-packages/scipy/optimize/_linprog_ip.py\u001b[0m in \u001b[0;36m_sym_solve\u001b[0;34m(Dinv, M, A, r1, r2, solve, splu)\u001b[0m\n\u001b[1;32m   1318\u001b[0m         \u001b[0mv\u001b[0m \u001b[0;34m=\u001b[0m \u001b[0msolve\u001b[0m\u001b[0;34m(\u001b[0m\u001b[0mM\u001b[0m\u001b[0;34m,\u001b[0m \u001b[0mr\u001b[0m\u001b[0;34m)\u001b[0m\u001b[0;34m\u001b[0m\u001b[0;34m\u001b[0m\u001b[0m\n\u001b[1;32m   1319\u001b[0m     \u001b[0;31m# [1] 8.32\u001b[0m\u001b[0;34m\u001b[0m\u001b[0;34m\u001b[0m\u001b[0;34m\u001b[0m\u001b[0m\n\u001b[0;32m-> 1320\u001b[0;31m     \u001b[0mu\u001b[0m \u001b[0;34m=\u001b[0m \u001b[0mDinv\u001b[0m \u001b[0;34m*\u001b[0m \u001b[0;34m(\u001b[0m\u001b[0mA\u001b[0m\u001b[0;34m.\u001b[0m\u001b[0mT\u001b[0m\u001b[0;34m.\u001b[0m\u001b[0mdot\u001b[0m\u001b[0;34m(\u001b[0m\u001b[0mv\u001b[0m\u001b[0;34m)\u001b[0m \u001b[0;34m-\u001b[0m \u001b[0mr1\u001b[0m\u001b[0;34m)\u001b[0m\u001b[0;34m\u001b[0m\u001b[0;34m\u001b[0m\u001b[0m\n\u001b[0m\u001b[1;32m   1321\u001b[0m     \u001b[0;32mreturn\u001b[0m \u001b[0mu\u001b[0m\u001b[0;34m,\u001b[0m \u001b[0mv\u001b[0m\u001b[0;34m\u001b[0m\u001b[0;34m\u001b[0m\u001b[0m\n\u001b[1;32m   1322\u001b[0m \u001b[0;34m\u001b[0m\u001b[0m\n",
      "\u001b[0;31mKeyboardInterrupt\u001b[0m: "
     ]
    }
   ],
   "source": [
    "d = dict()\n",
    "n = 50\n",
    "while n < 500:\n",
    "    d[n] = dict()\n",
    "    k = 1\n",
    "    while k < n // 3:\n",
    "        eps = 1 / n / 1000\n",
    "        m0 = find_m(n=n, \n",
    "           matrix_gen=bernoulli_matrix_gen, \n",
    "           vector_gen=lambda n, k: gen_noised(n, k, eps), \n",
    "           params={\"k\" : k}, \n",
    "           decompress=lambda a, y: decompress_sparse(a, y, eps / 10),\n",
    "           ok_crit=lambda x : x < eps * n / 10,\n",
    "           iters=1\n",
    "          )\n",
    "        m1 = find_m(n=n, \n",
    "           matrix_gen=bernoulli_matrix_gen, \n",
    "           vector_gen=lambda n, k: gen_noised(n, k, eps), \n",
    "           params={\"k\" : k}, \n",
    "           decompress=lambda a, y: decompress_approx_1(a, y, eps, eps),\n",
    "           ok_crit=lambda x : x < eps * n / 10,\n",
    "           iters=1\n",
    "          )\n",
    "        m2 = find_m(n=n, \n",
    "           matrix_gen=bernoulli_matrix_gen, \n",
    "           vector_gen=lambda n, k: gen_noised(n, k, eps), \n",
    "           params={\"k\" : k}, \n",
    "           decompress=lambda a, y: decompress_approx_2(a, y, eps, eps),\n",
    "           ok_crit=lambda x : x < eps * n / 10,\n",
    "           iters=1\n",
    "          )\n",
    "        print(n, k, m0, m1, m2, sep='\\t')\n",
    "        d[n][k] = m0\n",
    "        if m0 == n:\n",
    "            break\n",
    "        k = int(k * 1.1) + 1\n",
    "    n = int(n * 1.1)"
   ]
  },
  {
   "cell_type": "code",
   "execution_count": 77,
   "metadata": {},
   "outputs": [
    {
     "data": {
      "image/png": "[encoded data removed]",
      "text/plain": [
       "<Figure size 432x288 with 1 Axes>"
      ]
     },
     "metadata": {},
     "output_type": "display_data"
    }
   ],
   "source": [
    "total = 0\n",
    "for n in d:\n",
    "    pairs = list(sorted(d[n].items()))\n",
    "    k = np.array([i[0] for i in pairs])\n",
    "    m = np.array([i[1] for i in pairs])\n",
    "    plt.plot(total + k, m / k / np.log(n / k))\n",
    "    total += k[-1]"
   ]
  },
  {
   "cell_type": "code",
   "execution_count": 28,
   "metadata": {},
   "outputs": [
    {
     "data": {
      "text/plain": [
       "100"
      ]
     },
     "execution_count": 28,
     "metadata": {},
     "output_type": "execute_result"
    }
   ],
   "source": [
    "find_m(n=100, \n",
    "       matrix_gen=chipping_matrix_gen, \n",
    "       vector_gen=gen_sparse, \n",
    "       params={\"k\" : 6}, \n",
    "       decompress=lambda a, y: decompress_sparse(a, y, 1e-9),\n",
    "       ok_crit=lambda x : x < 1e-9,\n",
    "       iters=5\n",
    "      )"
   ]
  },
  {
   "cell_type": "code",
   "execution_count": 11,
   "metadata": {},
   "outputs": [
    {
     "data": {
      "text/plain": [
       "28"
      ]
     },
     "execution_count": 11,
     "metadata": {},
     "output_type": "execute_result"
    }
   ],
   "source": [
    "find_m(100, \n",
    "       gaussian_matrix_gen, \n",
    "       gen_sparse, \n",
    "       {\"k\" : 6}, \n",
    "       lambda a, y: decompress_sparse(a, y, 1e-8),\n",
    "       lambda err : err < 1e-3)"
   ]
  },
  {
   "cell_type": "code",
   "execution_count": 53,
   "metadata": {},
   "outputs": [],
   "source": [
    "import numpy as np\n",
    "import scipy as sp\n",
    "import scipy.stats as stats\n",
    "import scipy.linalg as linalg\n",
    "import scipy.optimize as opt\n",
    "import scipy.sparse as sparse\n",
    "import scipy.fftpack\n",
    "import matplotlib.pyplot as plt\n",
    "import time\n",
    "from matplotlib import pyplot as plt\n",
    "import wave\n",
    "\n",
    "\n",
    "def read(filename, size=-1):\n",
    "    fr = wave.open(filename, \"rb\")\n",
    "    if size == -1:\n",
    "        size = fr.getnframes()\n",
    "    arr = np.array(list(fr.readframes(size)))\n",
    "    arr = arr.reshape((arr.shape[0] // 4, 4))\n",
    "    left = arr[:, 0] + ((arr[:, 1] - 128) % 256) * 256 - 32768\n",
    "    right = arr[:, 2] + ((arr[:, 3] - 128) % 256) * 256 - 32768\n",
    "    return left, right\n",
    "\n",
    "def write(filename, left, right):\n",
    "    fw = wave.open(filename, \"wb\")\n",
    "    fw.setnchannels(2)\n",
    "    fw.setsampwidth(2)\n",
    "    fw.setnframes(left.size)\n",
    "    fw.setframerate(44100)\n",
    "    for side in (left, right):\n",
    "        side += 2 ** 15\n",
    "        side[side < 0] = 0\n",
    "        side[side > 2 ** 16 - 1] = 2 ** 16 - 1\n",
    "    arr = np.array((left % 256, ((left // 256 - 128) % 256),\n",
    "                   right % 256, ((right // 256 - 128) % 256)\n",
    "                  )).T.flatten()\n",
    "    fw.writeframes(bytes(list(arr)))\n",
    "    fw.close()"
   ]
  },
  {
   "cell_type": "code",
   "execution_count": 86,
   "metadata": {},
   "outputs": [],
   "source": [
    "left, right = read(\"Music/war_and_peace.wav\")"
   ]
  },
  {
   "cell_type": "code",
   "execution_count": 112,
   "metadata": {},
   "outputs": [],
   "source": [
    "n = 1000"
   ]
  },
  {
   "cell_type": "code",
   "execution_count": 113,
   "metadata": {},
   "outputs": [],
   "source": [
    "psi = np.zeros((n, n))\n",
    "inv_psi = np.zeros((n, n))\n",
    "e = np.identity(n)\n",
    "for i in range(n):\n",
    "    psi[i] = scipy.fftpack.dct(e[i], norm='ortho')\n",
    "    inv_psi[i] = scipy.fftpack.idct(e[i], norm='ortho')"
   ]
  },
  {
   "cell_type": "code",
   "execution_count": 115,
   "metadata": {},
   "outputs": [
    {
     "data": {
      "image/png": "[encoded data removed]",
      "text/plain": [
       "<Figure size 432x288 with 1 Axes>"
      ]
     },
     "metadata": {},
     "output_type": "display_data"
    },
    {
     "name": "stdout",
     "output_type": "stream",
     "text": [
      "0.0846598849597544 1.0\n"
     ]
    },
    {
     "data": {
      "image/png": "[encoded data removed]",
      "text/plain": [
       "<Figure size 432x288 with 1 Axes>"
      ]
     },
     "metadata": {},
     "output_type": "display_data"
    },
    {
     "ename": "KeyboardInterrupt",
     "evalue": "",
     "output_type": "error",
     "traceback": [
      "\u001b[0;31m---------------------------------------------------------------------------\u001b[0m",
      "\u001b[0;31mKeyboardInterrupt\u001b[0m                         Traceback (most recent call last)",
      "\u001b[0;32m<ipython-input-115-0957ce541d8b>\u001b[0m in \u001b[0;36m<module>\u001b[0;34m()\u001b[0m\n\u001b[1;32m     14\u001b[0m                \u001b[0;32mlambda\u001b[0m \u001b[0mn\u001b[0m \u001b[0;34m:\u001b[0m \u001b[0mfreqs\u001b[0m\u001b[0;34m,\u001b[0m\u001b[0;34m\u001b[0m\u001b[0m\n\u001b[1;32m     15\u001b[0m                \u001b[0;34m{\u001b[0m\u001b[0;34m}\u001b[0m\u001b[0;34m,\u001b[0m\u001b[0;34m\u001b[0m\u001b[0m\n\u001b[0;32m---> 16\u001b[0;31m                lambda a, y: decompress_sparse(a, y, 1e-4))\n\u001b[0m\u001b[1;32m     17\u001b[0m     \u001b[0mprint\u001b[0m\u001b[0;34m(\u001b[0m\u001b[0merr\u001b[0m\u001b[0;34m,\u001b[0m \u001b[0mlinalg\u001b[0m\u001b[0;34m.\u001b[0m\u001b[0mnorm\u001b[0m\u001b[0;34m(\u001b[0m\u001b[0mfreqs\u001b[0m\u001b[0;34m)\u001b[0m\u001b[0;34m)\u001b[0m\u001b[0;34m\u001b[0m\u001b[0m\n",
      "\u001b[0;32m<ipython-input-15-f4695bb1d35a>\u001b[0m in \u001b[0;36mestimate_feasibility\u001b[0;34m(n, m, matrix_gen, vector_gen, params, decompress)\u001b[0m\n\u001b[1;32m      4\u001b[0m     \u001b[0my\u001b[0m \u001b[0;34m=\u001b[0m \u001b[0ma\u001b[0m \u001b[0;34m@\u001b[0m \u001b[0mx\u001b[0m\u001b[0;34m\u001b[0m\u001b[0m\n\u001b[1;32m      5\u001b[0m     \u001b[0;32mtry\u001b[0m\u001b[0;34m:\u001b[0m\u001b[0;34m\u001b[0m\u001b[0m\n\u001b[0;32m----> 6\u001b[0;31m         \u001b[0mx0\u001b[0m \u001b[0;34m=\u001b[0m \u001b[0mdecompress\u001b[0m\u001b[0;34m(\u001b[0m\u001b[0ma\u001b[0m\u001b[0;34m,\u001b[0m \u001b[0my\u001b[0m\u001b[0;34m)\u001b[0m\u001b[0;34m\u001b[0m\u001b[0m\n\u001b[0m\u001b[1;32m      7\u001b[0m     \u001b[0;32mexcept\u001b[0m \u001b[0mException\u001b[0m \u001b[0;32mas\u001b[0m \u001b[0me\u001b[0m\u001b[0;34m:\u001b[0m\u001b[0;34m\u001b[0m\u001b[0m\n\u001b[1;32m      8\u001b[0m         \u001b[0;32mreturn\u001b[0m \u001b[0mnp\u001b[0m\u001b[0;34m.\u001b[0m\u001b[0mlinalg\u001b[0m\u001b[0;34m.\u001b[0m\u001b[0mnorm\u001b[0m\u001b[0;34m(\u001b[0m\u001b[0mx\u001b[0m\u001b[0;34m)\u001b[0m\u001b[0;34m\u001b[0m\u001b[0m\n",
      "\u001b[0;32m<ipython-input-115-0957ce541d8b>\u001b[0m in \u001b[0;36m<lambda>\u001b[0;34m(a, y)\u001b[0m\n\u001b[1;32m     14\u001b[0m                \u001b[0;32mlambda\u001b[0m \u001b[0mn\u001b[0m \u001b[0;34m:\u001b[0m \u001b[0mfreqs\u001b[0m\u001b[0;34m,\u001b[0m\u001b[0;34m\u001b[0m\u001b[0m\n\u001b[1;32m     15\u001b[0m                \u001b[0;34m{\u001b[0m\u001b[0;34m}\u001b[0m\u001b[0;34m,\u001b[0m\u001b[0;34m\u001b[0m\u001b[0m\n\u001b[0;32m---> 16\u001b[0;31m                lambda a, y: decompress_sparse(a, y, 1e-4))\n\u001b[0m\u001b[1;32m     17\u001b[0m     \u001b[0mprint\u001b[0m\u001b[0;34m(\u001b[0m\u001b[0merr\u001b[0m\u001b[0;34m,\u001b[0m \u001b[0mlinalg\u001b[0m\u001b[0;34m.\u001b[0m\u001b[0mnorm\u001b[0m\u001b[0;34m(\u001b[0m\u001b[0mfreqs\u001b[0m\u001b[0;34m)\u001b[0m\u001b[0;34m)\u001b[0m\u001b[0;34m\u001b[0m\u001b[0m\n",
      "\u001b[0;32m<ipython-input-8-692c11f32ae1>\u001b[0m in \u001b[0;36mdecompress_sparse\u001b[0;34m(a, y, tol)\u001b[0m\n\u001b[1;32m     16\u001b[0m     res = opt.linprog(c, A_ub=A_ub, b_ub=b_ub, A_eq=A_eq, b_eq=b_eq, bounds=bounds, \n\u001b[1;32m     17\u001b[0m                       \u001b[0;31m#options={'maxiter': 10000, 'disp': False, 'tol': tol})\u001b[0m\u001b[0;34m\u001b[0m\u001b[0;34m\u001b[0m\u001b[0m\n\u001b[0;32m---> 18\u001b[0;31m                       method='interior-point', options={\"tol\" : tol, \"sym_pos\" : False})\n\u001b[0m\u001b[1;32m     19\u001b[0m     \u001b[0;32mif\u001b[0m \u001b[0;32mnot\u001b[0m \u001b[0mres\u001b[0m\u001b[0;34m.\u001b[0m\u001b[0msuccess\u001b[0m\u001b[0;34m:\u001b[0m\u001b[0;34m\u001b[0m\u001b[0m\n\u001b[1;32m     20\u001b[0m         \u001b[0;32mraise\u001b[0m \u001b[0mException\u001b[0m\u001b[0;34m(\u001b[0m\u001b[0mres\u001b[0m\u001b[0;34m)\u001b[0m\u001b[0;34m\u001b[0m\u001b[0m\n",
      "\u001b[0;32m/usr/local/lib/python3.6/dist-packages/scipy/optimize/_linprog.py\u001b[0m in \u001b[0;36mlinprog\u001b[0;34m(c, A_ub, b_ub, A_eq, b_eq, bounds, method, callback, options)\u001b[0m\n\u001b[1;32m   1044\u001b[0m     \u001b[0;32melif\u001b[0m \u001b[0mmeth\u001b[0m \u001b[0;34m==\u001b[0m \u001b[0;34m'interior-point'\u001b[0m\u001b[0;34m:\u001b[0m\u001b[0;34m\u001b[0m\u001b[0m\n\u001b[1;32m   1045\u001b[0m         return _linprog_ip(c, A_ub=A_ub, b_ub=b_ub, A_eq=A_eq, b_eq=b_eq,\n\u001b[0;32m-> 1046\u001b[0;31m                            bounds=bounds, callback=callback, **options)\n\u001b[0m\u001b[1;32m   1047\u001b[0m     \u001b[0;32melse\u001b[0m\u001b[0;34m:\u001b[0m\u001b[0;34m\u001b[0m\u001b[0m\n\u001b[1;32m   1048\u001b[0m         \u001b[0;32mraise\u001b[0m \u001b[0mValueError\u001b[0m\u001b[0;34m(\u001b[0m\u001b[0;34m'Unknown solver %s'\u001b[0m \u001b[0;34m%\u001b[0m \u001b[0mmethod\u001b[0m\u001b[0;34m)\u001b[0m\u001b[0;34m\u001b[0m\u001b[0m\n",
      "\u001b[0;32m/usr/local/lib/python3.6/dist-packages/scipy/optimize/_linprog_ip.py\u001b[0m in \u001b[0;36m_linprog_ip\u001b[0;34m(c, A_ub, b_ub, A_eq, b_eq, bounds, callback, alpha0, beta, maxiter, disp, tol, sparse, lstsq, sym_pos, cholesky, pc, ip, presolve, permc_spec, rr, _sparse_presolve, **unknown_options)\u001b[0m\n\u001b[1;32m   2148\u001b[0m                                                 \u001b[0mmaxiter\u001b[0m\u001b[0;34m,\u001b[0m \u001b[0mdisp\u001b[0m\u001b[0;34m,\u001b[0m \u001b[0mtol\u001b[0m\u001b[0;34m,\u001b[0m \u001b[0msparse\u001b[0m\u001b[0;34m,\u001b[0m\u001b[0;34m\u001b[0m\u001b[0m\n\u001b[1;32m   2149\u001b[0m                                                 \u001b[0mlstsq\u001b[0m\u001b[0;34m,\u001b[0m \u001b[0msym_pos\u001b[0m\u001b[0;34m,\u001b[0m \u001b[0mcholesky\u001b[0m\u001b[0;34m,\u001b[0m\u001b[0;34m\u001b[0m\u001b[0m\n\u001b[0;32m-> 2150\u001b[0;31m                                                 pc, ip, permc_spec)\n\u001b[0m\u001b[1;32m   2151\u001b[0m \u001b[0;34m\u001b[0m\u001b[0m\n\u001b[1;32m   2152\u001b[0m     \u001b[0;31m# Eliminate artificial variables, re-introduce presolved variables, etc...\u001b[0m\u001b[0;34m\u001b[0m\u001b[0;34m\u001b[0m\u001b[0m\n",
      "\u001b[0;32m/usr/local/lib/python3.6/dist-packages/scipy/optimize/_linprog_ip.py\u001b[0m in \u001b[0;36m_ip_hsd\u001b[0;34m(A, b, c, c0, alpha0, beta, maxiter, disp, tol, sparse, lstsq, sym_pos, cholesky, pc, ip, permc_spec)\u001b[0m\n\u001b[1;32m   1680\u001b[0m             d_x, d_y, d_z, d_tau, d_kappa = _get_delta(\n\u001b[1;32m   1681\u001b[0m                 \u001b[0mA\u001b[0m\u001b[0;34m,\u001b[0m \u001b[0mb\u001b[0m\u001b[0;34m,\u001b[0m \u001b[0mc\u001b[0m\u001b[0;34m,\u001b[0m \u001b[0mx\u001b[0m\u001b[0;34m,\u001b[0m \u001b[0my\u001b[0m\u001b[0;34m,\u001b[0m \u001b[0mz\u001b[0m\u001b[0;34m,\u001b[0m \u001b[0mtau\u001b[0m\u001b[0;34m,\u001b[0m \u001b[0mkappa\u001b[0m\u001b[0;34m,\u001b[0m \u001b[0mgamma\u001b[0m\u001b[0;34m,\u001b[0m \u001b[0meta\u001b[0m\u001b[0;34m,\u001b[0m\u001b[0;34m\u001b[0m\u001b[0m\n\u001b[0;32m-> 1682\u001b[0;31m                 sparse, lstsq, sym_pos, cholesky, pc, ip, permc_spec)\n\u001b[0m\u001b[1;32m   1683\u001b[0m \u001b[0;34m\u001b[0m\u001b[0m\n\u001b[1;32m   1684\u001b[0m             \u001b[0;32mif\u001b[0m \u001b[0mip\u001b[0m\u001b[0;34m:\u001b[0m  \u001b[0;31m# initial point\u001b[0m\u001b[0;34m\u001b[0m\u001b[0m\n",
      "\u001b[0;32m/usr/local/lib/python3.6/dist-packages/scipy/optimize/_linprog_ip.py\u001b[0m in \u001b[0;36m_get_delta\u001b[0;34m(A, b, c, x, y, z, tau, kappa, gamma, eta, sparse, lstsq, sym_pos, cholesky, pc, ip, permc_spec)\u001b[0m\n\u001b[1;32m   1243\u001b[0m                 \u001b[0;31m# [1] Equation 8.29\u001b[0m\u001b[0;34m\u001b[0m\u001b[0;34m\u001b[0m\u001b[0m\n\u001b[1;32m   1244\u001b[0m                 u, v = _sym_solve(Dinv, solve_this, A, rhatd -\n\u001b[0;32m-> 1245\u001b[0;31m                                   (1 / x) * rhatxs, rhatp, solve, splu)\n\u001b[0m\u001b[1;32m   1246\u001b[0m                 \u001b[0;32mif\u001b[0m \u001b[0mnp\u001b[0m\u001b[0;34m.\u001b[0m\u001b[0many\u001b[0m\u001b[0;34m(\u001b[0m\u001b[0mnp\u001b[0m\u001b[0;34m.\u001b[0m\u001b[0misnan\u001b[0m\u001b[0;34m(\u001b[0m\u001b[0mp\u001b[0m\u001b[0;34m)\u001b[0m\u001b[0;34m)\u001b[0m \u001b[0;32mor\u001b[0m \u001b[0mnp\u001b[0m\u001b[0;34m.\u001b[0m\u001b[0many\u001b[0m\u001b[0;34m(\u001b[0m\u001b[0mnp\u001b[0m\u001b[0;34m.\u001b[0m\u001b[0misnan\u001b[0m\u001b[0;34m(\u001b[0m\u001b[0mq\u001b[0m\u001b[0;34m)\u001b[0m\u001b[0;34m)\u001b[0m\u001b[0;34m:\u001b[0m\u001b[0;34m\u001b[0m\u001b[0m\n\u001b[1;32m   1247\u001b[0m                     \u001b[0;32mraise\u001b[0m \u001b[0mLinAlgError\u001b[0m\u001b[0;34m\u001b[0m\u001b[0m\n",
      "\u001b[0;32m/usr/local/lib/python3.6/dist-packages/scipy/optimize/_linprog_ip.py\u001b[0m in \u001b[0;36m_sym_solve\u001b[0;34m(Dinv, M, A, r1, r2, solve, splu)\u001b[0m\n\u001b[1;32m   1316\u001b[0m         \u001b[0mv\u001b[0m \u001b[0;34m=\u001b[0m \u001b[0msolve\u001b[0m\u001b[0;34m(\u001b[0m\u001b[0mr\u001b[0m\u001b[0;34m)\u001b[0m\u001b[0;34m\u001b[0m\u001b[0m\n\u001b[1;32m   1317\u001b[0m     \u001b[0;32melse\u001b[0m\u001b[0;34m:\u001b[0m\u001b[0;34m\u001b[0m\u001b[0m\n\u001b[0;32m-> 1318\u001b[0;31m         \u001b[0mv\u001b[0m \u001b[0;34m=\u001b[0m \u001b[0msolve\u001b[0m\u001b[0;34m(\u001b[0m\u001b[0mM\u001b[0m\u001b[0;34m,\u001b[0m \u001b[0mr\u001b[0m\u001b[0;34m)\u001b[0m\u001b[0;34m\u001b[0m\u001b[0m\n\u001b[0m\u001b[1;32m   1319\u001b[0m     \u001b[0;31m# [1] 8.32\u001b[0m\u001b[0;34m\u001b[0m\u001b[0;34m\u001b[0m\u001b[0m\n\u001b[1;32m   1320\u001b[0m     \u001b[0mu\u001b[0m \u001b[0;34m=\u001b[0m \u001b[0mDinv\u001b[0m \u001b[0;34m*\u001b[0m \u001b[0;34m(\u001b[0m\u001b[0mA\u001b[0m\u001b[0;34m.\u001b[0m\u001b[0mT\u001b[0m\u001b[0;34m.\u001b[0m\u001b[0mdot\u001b[0m\u001b[0;34m(\u001b[0m\u001b[0mv\u001b[0m\u001b[0;34m)\u001b[0m \u001b[0;34m-\u001b[0m \u001b[0mr1\u001b[0m\u001b[0;34m)\u001b[0m\u001b[0;34m\u001b[0m\u001b[0m\n",
      "\u001b[0;32m/usr/local/lib/python3.6/dist-packages/scipy/optimize/_linprog_ip.py\u001b[0m in \u001b[0;36msolve\u001b[0;34m(M, r, sym_pos)\u001b[0m\n\u001b[1;32m   1053\u001b[0m             \u001b[0;31m# with multiple right hand sides is much faster\u001b[0m\u001b[0;34m\u001b[0m\u001b[0;34m\u001b[0m\u001b[0m\n\u001b[1;32m   1054\u001b[0m             \u001b[0;32mdef\u001b[0m \u001b[0msolve\u001b[0m\u001b[0;34m(\u001b[0m\u001b[0mM\u001b[0m\u001b[0;34m,\u001b[0m \u001b[0mr\u001b[0m\u001b[0;34m,\u001b[0m \u001b[0msym_pos\u001b[0m\u001b[0;34m=\u001b[0m\u001b[0msym_pos\u001b[0m\u001b[0;34m)\u001b[0m\u001b[0;34m:\u001b[0m\u001b[0;34m\u001b[0m\u001b[0m\n\u001b[0;32m-> 1055\u001b[0;31m                 \u001b[0;32mreturn\u001b[0m \u001b[0msp\u001b[0m\u001b[0;34m.\u001b[0m\u001b[0mlinalg\u001b[0m\u001b[0;34m.\u001b[0m\u001b[0msolve\u001b[0m\u001b[0;34m(\u001b[0m\u001b[0mM\u001b[0m\u001b[0;34m,\u001b[0m \u001b[0mr\u001b[0m\u001b[0;34m,\u001b[0m \u001b[0msym_pos\u001b[0m\u001b[0;34m=\u001b[0m\u001b[0msym_pos\u001b[0m\u001b[0;34m)\u001b[0m\u001b[0;34m\u001b[0m\u001b[0m\n\u001b[0m\u001b[1;32m   1056\u001b[0m \u001b[0;34m\u001b[0m\u001b[0m\n\u001b[1;32m   1057\u001b[0m     \u001b[0;32mreturn\u001b[0m \u001b[0msolve\u001b[0m\u001b[0;34m\u001b[0m\u001b[0m\n",
      "\u001b[0;32m/usr/local/lib/python3.6/dist-packages/scipy/linalg/basic.py\u001b[0m in \u001b[0;36msolve\u001b[0;34m(a, b, sym_pos, lower, overwrite_a, overwrite_b, debug, check_finite, assume_a, transposed)\u001b[0m\n\u001b[1;32m    213\u001b[0m         gecon, getrf, getrs = get_lapack_funcs(('gecon', 'getrf', 'getrs'),\n\u001b[1;32m    214\u001b[0m                                                (a1, b1))\n\u001b[0;32m--> 215\u001b[0;31m         \u001b[0mlu\u001b[0m\u001b[0;34m,\u001b[0m \u001b[0mipvt\u001b[0m\u001b[0;34m,\u001b[0m \u001b[0minfo\u001b[0m \u001b[0;34m=\u001b[0m \u001b[0mgetrf\u001b[0m\u001b[0;34m(\u001b[0m\u001b[0ma1\u001b[0m\u001b[0;34m,\u001b[0m \u001b[0moverwrite_a\u001b[0m\u001b[0;34m=\u001b[0m\u001b[0moverwrite_a\u001b[0m\u001b[0;34m)\u001b[0m\u001b[0;34m\u001b[0m\u001b[0m\n\u001b[0m\u001b[1;32m    216\u001b[0m         \u001b[0m_solve_check\u001b[0m\u001b[0;34m(\u001b[0m\u001b[0mn\u001b[0m\u001b[0;34m,\u001b[0m \u001b[0minfo\u001b[0m\u001b[0;34m)\u001b[0m\u001b[0;34m\u001b[0m\u001b[0m\n\u001b[1;32m    217\u001b[0m         x, info = getrs(lu, ipvt, b1,\n",
      "\u001b[0;31mKeyboardInterrupt\u001b[0m: "
     ]
    }
   ],
   "source": [
    "for i in range(1000, left.size // n):\n",
    "    freqs = inv_psi @ left[i * n : (i + 1) * n]\n",
    "    freqs /= linalg.norm(freqs)\n",
    "    plt.plot(freqs)\n",
    "    plt.show()\n",
    "    #m = find_m(n, \n",
    "    #           gaussian_matrix_gen,\n",
    "    #           lambda n : freqs, \n",
    "    #           {}, \n",
    "    #           lambda a, y: decompress_sparse(a, y, 1e-8),\n",
    "    #           lambda err : err < 10 * n)\n",
    "    err = estimate_feasibility(n, 250,\n",
    "               gaussian_matrix_gen,\n",
    "               lambda n : freqs, \n",
    "               {}, \n",
    "               lambda a, y: decompress_sparse(a, y, 1e-4))\n",
    "    print(err, linalg.norm(freqs))"
   ]
  },
  {
   "cell_type": "code",
   "execution_count": 94,
   "metadata": {},
   "outputs": [
    {
     "data": {
      "text/plain": [
       "10.0"
      ]
     },
     "execution_count": 94,
     "metadata": {},
     "output_type": "execute_result"
    }
   ],
   "source": [
    "linalg.norm(np.ones(100) * 1)"
   ]
  },
  {
   "cell_type": "code",
   "execution_count": null,
   "metadata": {},
   "outputs": [],
   "source": []
  }
 ],
 "metadata": {
  "kernelspec": {
   "display_name": "Python 3",
   "language": "python",
   "name": "python3"
  },
  "language_info": {
   "codemirror_mode": {
    "name": "ipython",
    "version": 3
   },
   "file_extension": ".py",
   "mimetype": "text/x-python",
   "name": "python",
   "nbconvert_exporter": "python",
   "pygments_lexer": "ipython3",
   "version": "3.6.7"
  }
 },
 "nbformat": 4,
 "nbformat_minor": 2
}
